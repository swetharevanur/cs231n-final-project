{
 "cells": [
  {
   "cell_type": "code",
   "execution_count": 1,
   "metadata": {},
   "outputs": [],
   "source": [
    "%load_ext autoreload\n",
    "%autoreload 2\n",
    "\n",
    "import numpy as np\n",
    "import matplotlib.pyplot as plt\n",
    "%matplotlib inline\n",
    "\n",
    "import warnings\n",
    "warnings.filterwarnings(\"ignore\")"
   ]
  },
  {
   "cell_type": "markdown",
   "metadata": {},
   "source": [
    "# Load Dataset\n",
    "For this tutorial, we will use a IMDb dataset with plots and associated genres. We define our task as classifying the plots as those of action or romance movies based only on the plot text. \n",
    "\n",
    "The data is in `data/imdb/budgetandactors.txt`, which contains the plot and genre information about movies from the IMDb database. We pre-process the data below to generate the following:\n",
    "* Featurize the plot text using bag-of-words representation\n",
    "* Split the dataset into train, val, and test\n",
    "\n",
    "**TODO: Featurize in loader and load in the words each feature represents**"
   ]
  },
  {
   "cell_type": "code",
   "execution_count": 161,
   "metadata": {
    "scrolled": false
   },
   "outputs": [
    {
     "name": "stdout",
     "output_type": "stream",
     "text": [
      "Car count: 12\n",
      "Truck count: 8\n",
      "20 frames successfully loaded out of 1000 \n",
      "\n",
      "Car count: 23\n",
      "Truck count: 17\n",
      "40 frames successfully loaded out of 1000 \n",
      "\n",
      "Car count: 32\n",
      "Truck count: 28\n",
      "60 frames successfully loaded out of 1000 \n",
      "\n",
      "Car count: 43\n",
      "Truck count: 37\n",
      "80 frames successfully loaded out of 1000 \n",
      "\n",
      "Car count: 53\n",
      "Truck count: 47\n",
      "100 frames successfully loaded out of 1000 \n",
      "\n",
      "Car count: 63\n",
      "Truck count: 57\n",
      "120 frames successfully loaded out of 1000 \n",
      "\n",
      "Car count: 73\n",
      "Truck count: 67\n",
      "140 frames successfully loaded out of 1000 \n",
      "\n",
      "Car count: 82\n",
      "Truck count: 78\n",
      "160 frames successfully loaded out of 1000 \n",
      "\n",
      "Car count: 93\n",
      "Truck count: 87\n",
      "180 frames successfully loaded out of 1000 \n",
      "\n",
      "Car count: 103\n",
      "Truck count: 97\n",
      "200 frames successfully loaded out of 1000 \n",
      "\n",
      "Car count: 113\n",
      "Truck count: 107\n",
      "220 frames successfully loaded out of 1000 \n",
      "\n",
      "Car count: 123\n",
      "Truck count: 117\n",
      "240 frames successfully loaded out of 1000 \n",
      "\n",
      "Car count: 133\n",
      "Truck count: 127\n",
      "260 frames successfully loaded out of 1000 \n",
      "\n",
      "Car count: 143\n",
      "Truck count: 137\n",
      "280 frames successfully loaded out of 1000 \n",
      "\n",
      "Car count: 153\n",
      "Truck count: 147\n",
      "300 frames successfully loaded out of 1000 \n",
      "\n",
      "Car count: 163\n",
      "Truck count: 157\n",
      "320 frames successfully loaded out of 1000 \n",
      "\n",
      "Car count: 172\n",
      "Truck count: 168\n",
      "340 frames successfully loaded out of 1000 \n",
      "\n",
      "Car count: 183\n",
      "Truck count: 177\n",
      "360 frames successfully loaded out of 1000 \n",
      "\n",
      "Car count: 193\n",
      "Truck count: 187\n",
      "380 frames successfully loaded out of 1000 \n",
      "\n",
      "Car count: 203\n",
      "Truck count: 197\n",
      "400 frames successfully loaded out of 1000 \n",
      "\n",
      "Car count: 213\n",
      "Truck count: 207\n",
      "420 frames successfully loaded out of 1000 \n",
      "\n",
      "Car count: 223\n",
      "Truck count: 217\n",
      "440 frames successfully loaded out of 1000 \n",
      "\n",
      "Car count: 233\n",
      "Truck count: 227\n",
      "460 frames successfully loaded out of 1000 \n",
      "\n",
      "Car count: 243\n",
      "Truck count: 237\n",
      "480 frames successfully loaded out of 1000 \n",
      "\n",
      "Car count: 253\n",
      "Truck count: 247\n",
      "500 frames successfully loaded out of 1000 \n",
      "\n",
      "Car count: 263\n",
      "Truck count: 257\n",
      "520 frames successfully loaded out of 1000 \n",
      "\n",
      "Car count: 273\n",
      "Truck count: 267\n",
      "540 frames successfully loaded out of 1000 \n",
      "\n",
      "Car count: 283\n",
      "Truck count: 277\n",
      "560 frames successfully loaded out of 1000 \n",
      "\n",
      "Car count: 293\n",
      "Truck count: 287\n",
      "580 frames successfully loaded out of 1000 \n",
      "\n",
      "Car count: 303\n",
      "Truck count: 297\n",
      "600 frames successfully loaded out of 1000 \n",
      "\n",
      "Car count: 313\n",
      "Truck count: 307\n",
      "620 frames successfully loaded out of 1000 \n",
      "\n",
      "Car count: 323\n",
      "Truck count: 317\n",
      "640 frames successfully loaded out of 1000 \n",
      "\n",
      "Car count: 333\n",
      "Truck count: 327\n",
      "660 frames successfully loaded out of 1000 \n",
      "\n",
      "Car count: 343\n",
      "Truck count: 337\n",
      "680 frames successfully loaded out of 1000 \n",
      "\n",
      "Car count: 353\n",
      "Truck count: 347\n",
      "700 frames successfully loaded out of 1000 \n",
      "\n",
      "Car count: 363\n",
      "Truck count: 357\n",
      "720 frames successfully loaded out of 1000 \n",
      "\n",
      "Car count: 373\n",
      "Truck count: 367\n",
      "740 frames successfully loaded out of 1000 \n",
      "\n",
      "Car count: 383\n",
      "Truck count: 377\n",
      "760 frames successfully loaded out of 1000 \n",
      "\n",
      "Car count: 393\n",
      "Truck count: 387\n",
      "780 frames successfully loaded out of 1000 \n",
      "\n",
      "Car count: 403\n",
      "Truck count: 397\n",
      "800 frames successfully loaded out of 1000 \n",
      "\n",
      "Car count: 413\n",
      "Truck count: 407\n",
      "820 frames successfully loaded out of 1000 \n",
      "\n",
      "Car count: 423\n",
      "Truck count: 417\n",
      "840 frames successfully loaded out of 1000 \n",
      "\n",
      "Car count: 433\n",
      "Truck count: 427\n",
      "860 frames successfully loaded out of 1000 \n",
      "\n",
      "Car count: 443\n",
      "Truck count: 437\n",
      "880 frames successfully loaded out of 1000 \n",
      "\n",
      "Car count: 453\n",
      "Truck count: 447\n",
      "900 frames successfully loaded out of 1000 \n",
      "\n",
      "Car count: 463\n",
      "Truck count: 457\n",
      "920 frames successfully loaded out of 1000 \n",
      "\n",
      "Car count: 472\n",
      "Truck count: 468\n",
      "940 frames successfully loaded out of 1000 \n",
      "\n",
      "Car count: 483\n",
      "Truck count: 477\n",
      "960 frames successfully loaded out of 1000 \n",
      "\n",
      "Car count: 493\n",
      "Truck count: 487\n",
      "980 frames successfully loaded out of 1000 \n",
      "\n",
      "Car count: 503\n",
      "Truck count: 497\n",
      "1000 frames successfully loaded out of 1000 \n",
      "\n",
      "Car count: 503\n",
      "Truck count: 497\n",
      "6 more cars than trucks.\n",
      "(160, 50)\n",
      "(640, 50)\n"
     ]
    }
   ],
   "source": [
    "from loader import DataLoader\n",
    "dl = DataLoader()\n",
    "train_primitive_matrix, val_primitive_matrix, test_primitive_matrix, \\\n",
    "train_ground, val_ground, test_ground = dl.load_data()\n",
    "print(train_primitive_matrix.shape)\n",
    "print(val_primitive_matrix.shape)"
   ]
  },
  {
   "cell_type": "markdown",
   "metadata": {},
   "source": [
    "# Reef Steps\n",
    "Reef generates heuristics in an iterative manner, with each iteration consisting of the following steps:\n",
    "1. Synthesize Heuristics\n",
    "2. Prune Heuristics\n",
    "3. Verify Heuristics\n",
    "\n",
    "In this tutorial, we go through the three stages of Reef individually and then repeat the process iteratively."
   ]
  },
  {
   "cell_type": "markdown",
   "metadata": {},
   "source": [
    "In the cell below, we run a single iteration by calling the `run_synthesizer` function. We pass in the primitive matrices for the `train` and `val` sets, along with ground truth labels for `val`. While we also pass in ground truth labels for `train`, this is solely for evaluation purposes. \n",
    "\n",
    "`max_cardinality` is the maximum number of primitives a heuristic takes as input, `keep` is how many heuristics the pruner should select (3 for the first iteration, 1 after that) and `model` is the type of heuristic to generate, in this case, `decision_tree`. \n",
    "\n",
    "_This cell does not output anything, only saves values in HeuristicGenerator._"
   ]
  },
  {
   "cell_type": "code",
   "execution_count": 162,
   "metadata": {},
   "outputs": [
    {
     "name": "stdout",
     "output_type": "stream",
     "text": [
      "[-1. -1.  1.  1. -1.  1. -1. -1. -1. -1.  1.  1.  1.  1. -1.  1.  1. -1.\n",
      "  1.  1. -1. -1.  1.  1. -1. -1. -1. -1. -1. -1. -1.  1.  1. -1.  1. -1.\n",
      "  1.  1.  1.  1. -1. -1. -1. -1.  1. -1. -1. -1. -1. -1.  1.  1. -1. -1.\n",
      " -1. -1. -1. -1. -1.  1. -1. -1.  1.  1.  1. -1.  1.  1. -1.  1.  1. -1.\n",
      "  1.  1.  1.  1. -1.  1. -1.  1.  1. -1.  1. -1.  1.  1.  1. -1. -1. -1.\n",
      " -1. -1. -1.  1.  1. -1. -1.  1. -1. -1.  1.  1.  1. -1. -1.  1.  1.  1.\n",
      " -1. -1.  1.  1. -1. -1.  1. -1.  1. -1. -1.  1.  1.  1.  1.  1.  1. -1.\n",
      "  1. -1.  1.  1. -1.  1. -1. -1. -1. -1. -1. -1. -1. -1. -1. -1. -1.  1.\n",
      "  1.  1. -1.  1. -1. -1. -1. -1.  1. -1. -1. -1.  1.  1.  1. -1.]\n",
      "[ 1.  1.  1.  1.  1.  1. -1.  1.  1.  1. -1.  1.  1. -1. -1. -1.  1. -1.\n",
      " -1. -1. -1.  1. -1. -1.  1. -1. -1.  1.  1.  1.  1. -1. -1. -1.  1. -1.\n",
      " -1.  1.  1. -1.  1.  1.  1.  1. -1.  1. -1.  1.  1. -1. -1.  1.  1.  1.\n",
      " -1.  1. -1. -1. -1. -1.  1. -1.  1.  1. -1.  1. -1.  1.  1.  1. -1. -1.\n",
      "  1.  1. -1.  1. -1.  1. -1.  1. -1.  1.  1.  1.  1. -1. -1. -1.  1. -1.\n",
      " -1. -1. -1.  1.  1.  1. -1.  1. -1.  1. -1.  1.  1. -1. -1. -1. -1.  1.\n",
      "  1.  1.  1. -1. -1.  1.  1. -1.  1.  1. -1.  1. -1.  1.  1.  1.  1. -1.\n",
      " -1.  1. -1.  1.  1. -1.  1.  1.  1. -1. -1. -1. -1. -1.  1.  1.  1. -1.\n",
      " -1.  1.  1.  1.  1.  1.  1.  1.  1.  1. -1. -1.  1.  1.  1.  1.  1.  1.\n",
      "  1. -1. -1.  1.  1. -1.  1. -1. -1. -1. -1. -1. -1. -1.  1. -1. -1.  1.\n",
      " -1.  1.  1.  1. -1. -1. -1. -1.  1. -1.  1.  1. -1.  1.  1.  1.  1.  1.\n",
      "  1.  1. -1. -1.  1. -1. -1. -1. -1.  1.  1. -1. -1.  1.  1.  1.  1. -1.\n",
      "  1. -1.  1. -1. -1. -1.  1. -1.  1. -1. -1.  1. -1. -1.  1.  1. -1. -1.\n",
      " -1. -1. -1. -1. -1.  1. -1.  1.  1. -1. -1.  1.  1. -1.  1. -1.  1.  1.\n",
      "  1. -1.  1.  1. -1. -1.  1.  1. -1.  1.  1. -1. -1.  1. -1.  1. -1. -1.\n",
      "  1.  1.  1. -1.  1. -1.  1.  1. -1. -1.  1. -1. -1.  1. -1.  1. -1. -1.\n",
      "  1. -1.  1. -1.  1. -1.  1.  1. -1. -1. -1. -1. -1.  1. -1. -1. -1. -1.\n",
      " -1. -1.  1.  1.  1. -1. -1. -1. -1.  1. -1. -1.  1. -1. -1. -1.  1. -1.\n",
      "  1.  1. -1. -1. -1. -1. -1. -1. -1. -1.  1.  1. -1.  1. -1.  1. -1.  1.\n",
      " -1.  1. -1. -1.  1. -1. -1. -1. -1.  1.  1. -1.  1. -1.  1.  1.  1. -1.\n",
      "  1.  1. -1.  1. -1.  1. -1. -1.  1.  1. -1. -1.  1.  1.  1. -1.  1.  1.\n",
      " -1. -1.  1.  1.  1.  1. -1. -1.  1. -1. -1.  1.  1.  1. -1. -1. -1. -1.\n",
      "  1. -1. -1.  1.  1.  1.  1.  1.  1. -1. -1. -1. -1. -1. -1.  1.  1.  1.\n",
      " -1.  1. -1. -1. -1. -1. -1. -1.  1.  1.  1.  1. -1.  1. -1. -1. -1. -1.\n",
      " -1. -1.  1.  1.  1.  1.  1. -1.  1.  1.  1. -1. -1. -1. -1.  1.  1. -1.\n",
      "  1. -1.  1.  1. -1. -1.  1.  1. -1. -1. -1.  1.  1. -1.  1.  1.  1. -1.\n",
      "  1. -1. -1.  1. -1.  1.  1. -1.  1.  1. -1.  1.  1. -1.  1. -1.  1. -1.\n",
      "  1. -1. -1.  1.  1.  1.  1. -1. -1. -1.  1. -1.  1. -1. -1.  1. -1.  1.\n",
      " -1. -1.  1.  1.  1. -1. -1. -1. -1.  1.  1.  1.  1. -1. -1. -1.  1. -1.\n",
      "  1. -1.  1.  1.  1. -1.  1. -1. -1. -1. -1.  1. -1.  1.  1. -1.  1. -1.\n",
      " -1.  1.  1.  1.  1.  1. -1. -1.  1.  1.  1. -1.  1. -1.  1. -1.  1. -1.\n",
      " -1.  1.  1. -1. -1. -1. -1. -1. -1.  1.  1. -1.  1.  1.  1.  1. -1.  1.\n",
      "  1.  1.  1. -1. -1.  1.  1. -1.  1. -1.  1.  1. -1.  1. -1. -1. -1. -1.\n",
      " -1.  1. -1. -1. -1. -1.  1. -1. -1.  1.  1. -1.  1. -1.  1. -1.  1. -1.\n",
      "  1. -1. -1. -1. -1. -1.  1.  1.  1.  1.  1.  1.  1.  1.  1.  1.  1.  1.\n",
      "  1. -1.  1.  1.  1.  1. -1.  1.  1.  1.]\n"
     ]
    }
   ],
   "source": [
    "from program_synthesis.heuristic_generator import HeuristicGenerator\n",
    "print(train_ground)\n",
    "print(val_ground)\n",
    "hg = HeuristicGenerator(train_primitive_matrix, val_primitive_matrix, val_ground, train_ground, b=0.5)\n",
    "hg.run_synthesizer(max_cardinality=1, idx=None, keep=3, model='dt')"
   ]
  },
  {
   "cell_type": "markdown",
   "metadata": {},
   "source": [
    "## 1. Synthesize Heuristics\n",
    "We start by generating all possible heuristics based on the labeled, validation set that take in a single feature (i.e. word for this example) as input. \n",
    "\n",
    "For this example, we use decision trees with maximum depth 1 (`dt`) as our heuristic form. This translates to checking whether a certain word exists or does not exist in the text to assign a label. We first generate all possible heuristics that take a single feature in as input."
   ]
  },
  {
   "cell_type": "code",
   "execution_count": 163,
   "metadata": {},
   "outputs": [
    {
     "name": "stdout",
     "output_type": "stream",
     "text": [
      "Total Heuristics Generated:  50\n"
     ]
    }
   ],
   "source": [
    "from program_synthesis.synthesizer import Synthesizer\n",
    "syn = Synthesizer(val_primitive_matrix, val_ground, b=0.5)\n",
    "\n",
    "heuristics, feature_inputs = syn.generate_heuristics('nn', 1)\n",
    "print(\"Total Heuristics Generated: \", np.shape(heuristics)[1])"
   ]
  },
  {
   "cell_type": "markdown",
   "metadata": {},
   "source": [
    "For each generated heuristic, we find an associated $\\beta$ value.  This corresponds to defining a region of **low confidence** labels, which the heuristic will abstain for, while labeling the rest of the datapoints as $1$ or $-1$."
   ]
  },
  {
   "cell_type": "code",
   "execution_count": 164,
   "metadata": {},
   "outputs": [
    {
     "data": {
      "image/png": "[encoded data removed]",
      "text/plain": [
       "<matplotlib.figure.Figure at 0x7f55e31d3160>"
      ]
     },
     "metadata": {},
     "output_type": "display_data"
    }
   ],
   "source": [
    "optimal_betas = syn.find_optimal_beta(heuristics[0], val_primitive_matrix, feature_inputs[0], val_ground)\n",
    "plt.hist(optimal_betas, range=(0,0.5));\n",
    "plt.xlabel('Beta Values');"
   ]
  },
  {
   "cell_type": "markdown",
   "metadata": {},
   "source": [
    "## 2. Prune Heuristics\n",
    "In the first iteration, we simply pick the 3 heuristics that perform the best on the labeled validation set. "
   ]
  },
  {
   "cell_type": "code",
   "execution_count": 165,
   "metadata": {},
   "outputs": [
    {
     "name": "stdout",
     "output_type": "stream",
     "text": [
      "Features chosen heuristics are based on:  [38 45 28]\n"
     ]
    }
   ],
   "source": [
    "top_idx = hg.prune_heuristics(heuristics, feature_inputs, keep=3)\n",
    "print('Features chosen heuristics are based on: ', top_idx)"
   ]
  },
  {
   "cell_type": "markdown",
   "metadata": {},
   "source": [
    "In subsequent iterations (step 4), we weight the Jaccard score (overlap of how many datapoints in the train set receive labels and how many are labeled by existing heuristics) and F1 score equally. We demonstrate this with a toy vector of previously labeled data."
   ]
  },
  {
   "cell_type": "markdown",
   "metadata": {},
   "source": [
    "## 3. Verify Heuristics\n",
    "In this step, we use the labels the heuristics assign to the **unlabeled train set** to estimate heuristic accuracies and assign probabilistic training labels to the same set accordingly (see [snorkel.stanford.edu](http://snorkel.stanford.edu) for more details). "
   ]
  },
  {
   "cell_type": "code",
   "execution_count": 166,
   "metadata": {},
   "outputs": [],
   "source": [
    "from program_synthesis.verifier import Verifier\n",
    "verifier = Verifier(hg.L_train, hg.L_val, val_ground, has_snorkel=False)\n",
    "\n",
    "verifier.train_gen_model()\n",
    "verifier.assign_marginals()"
   ]
  },
  {
   "cell_type": "markdown",
   "metadata": {},
   "source": [
    "We visualize what these labels look like. Note that with a single iteration, none of the datapoints receive a probabilistic label greater than 0.5, but this is fixed after running the process iteratively (Step 4). __These labels are then used to train an end model, such as an LSTM, and not used as final predictions.__ "
   ]
  },
  {
   "cell_type": "code",
   "execution_count": 167,
   "metadata": {},
   "outputs": [
    {
     "data": {
      "image/png": "[encoded data removed]",
      "text/plain": [
       "<matplotlib.figure.Figure at 0x7f55c05d5c50>"
      ]
     },
     "metadata": {},
     "output_type": "display_data"
    }
   ],
   "source": [
    "plt.hist(verifier.train_marginals); plt.title('Training Set Probabilistic Labels');"
   ]
  },
  {
   "cell_type": "markdown",
   "metadata": {},
   "source": [
    "Since we do not have access to ground truth labels for the train set, we use the distribution of labels for the labeled validation set to decide what feedback to pass to the synthesizer. We pass datapoints with low confidence (labels near 0.5, i.e. equal probability of being +1 or -1) to the synthesizer"
   ]
  },
  {
   "cell_type": "code",
   "execution_count": 168,
   "metadata": {},
   "outputs": [
    {
     "name": "stdout",
     "output_type": "stream",
     "text": [
      "Percentage of Low Confidence Points:  0.890625\n"
     ]
    },
    {
     "data": {
      "image/png": "[encoded data removed]",
      "text/plain": [
       "<matplotlib.figure.Figure at 0x7f55c05f9e48>"
      ]
     },
     "metadata": {},
     "output_type": "display_data"
    }
   ],
   "source": [
    "plt.hist(verifier.val_marginals); plt.title('Validation Set Probabilistic Labels');\n",
    "feedback_idx = verifier.find_vague_points(gamma=0.1,b=0.5)\n",
    "print('Percentage of Low Confidence Points: ', np.shape(feedback_idx)[0]/float(np.shape(val_ground)[0]))"
   ]
  },
  {
   "cell_type": "markdown",
   "metadata": {},
   "source": [
    "## 4. Repeat Iterative Process of Generating Heuristics\n",
    "We repeat this process of synthesizing, pruning, and verifying heuristics iteratively. In this example, we generate 25 total heuristics. \n",
    "\n",
    "_Note that this process wil take a few minutes to run since heuristic generation is not currently optimized in any manner_"
   ]
  },
  {
   "cell_type": "code",
   "execution_count": 176,
   "metadata": {},
   "outputs": [
    {
     "name": "stdout",
     "output_type": "stream",
     "text": [
      "Running iteration:  5\n",
      "Running iteration:  10\n",
      "Running iteration:  15\n",
      "Running iteration:  20\n",
      "Running iteration:  25\n",
      "Running iteration:  30\n",
      "Running iteration:  35\n",
      "Running iteration:  40\n",
      "Running iteration:  45\n",
      "Running iteration:  50\n",
      "Running iteration:  55\n",
      "Running iteration:  60\n",
      "Running iteration:  65\n",
      "Running iteration:  70\n"
     ]
    },
    {
     "data": {
      "image/png": "[encoded data removed]",
      "text/plain": [
       "<matplotlib.figure.Figure at 0x7f55e6ce2438>"
      ]
     },
     "metadata": {},
     "output_type": "display_data"
    }
   ],
   "source": [
    "validation_accuracy = []\n",
    "training_accuracy = []\n",
    "validation_coverage = []\n",
    "training_coverage = []\n",
    "\n",
    "training_marginals = []\n",
    "idx = None\n",
    "\n",
    "hg = HeuristicGenerator(train_primitive_matrix, val_primitive_matrix, \n",
    "                            val_ground, train_ground, \n",
    "                            b=0.5)\n",
    "plt.figure(figsize=(12,6));\n",
    "for i in range(3,75):\n",
    "    if (i-2)%5 == 0:\n",
    "        print(\"Running iteration: \", str(i-2))\n",
    "        \n",
    "    #Repeat synthesize-prune-verify at each iterations\n",
    "    if i == 3:\n",
    "        hg.run_synthesizer(max_cardinality=1, idx=idx, keep=3, model='dt')\n",
    "    else:\n",
    "        hg.run_synthesizer(max_cardinality=1, idx=idx, keep=3, model='dt')\n",
    "    hg.run_verifier()\n",
    "    \n",
    "    #Save evaluation metrics\n",
    "    va,ta, vc, tc = hg.evaluate()\n",
    "    validation_accuracy.append(va)\n",
    "    training_accuracy.append(ta)\n",
    "    training_marginals.append(hg.vf.train_marginals)\n",
    "    validation_coverage.append(vc)\n",
    "    training_coverage.append(tc)\n",
    "    \n",
    "    #Plot Training Set Label Distribution\n",
    "    if i <= 8:\n",
    "        plt.subplot(2,3,i-2)\n",
    "        plt.hist(training_marginals[-1], bins=10, range=(0.0,1.0)); \n",
    "        plt.title('Iteration ' + str(i-2));\n",
    "        plt.xlim([0.0,1.0])\n",
    "        # plt.ylim([0,825])\n",
    "    \n",
    "    #Find low confidence datapoints in the labeled set\n",
    "    hg.find_feedback()\n",
    "    idx = hg.feedback_idx\n",
    "    \n",
    "    #Stop the iterative process when no low confidence labels\n",
    "    if idx == []:\n",
    "        break\n",
    "plt.tight_layout()"
   ]
  },
  {
   "cell_type": "markdown",
   "metadata": {},
   "source": [
    "In the plots above, we show the distribution of probabilistic labels Reef assigns to the training set in the first few iterations.\n",
    "\n",
    "Next, we look at the accuracy and coverage of labels assigned to the training set in the _last_ iteration. The coverage is the percentage of training set datapoints that receive at least one label from the generated heuristics."
   ]
  },
  {
   "cell_type": "code",
   "execution_count": 177,
   "metadata": {},
   "outputs": [
    {
     "name": "stdout",
     "output_type": "stream",
     "text": [
      "Program Synthesis Train Accuracy:  0.45454545454545453\n",
      "Program Synthesis Train Coverage:  0.1375\n",
      "[0.8285714285714286, 0.8285714285714286, 0.8285714285714286, 0.8285714285714286, 0.8421052631578947, 0.8421052631578947, 0.8421052631578947, 0.8421052631578947, 0.8421052631578947, 0.8421052631578947, 0.8421052631578947, 0.8421052631578947, 0.8421052631578947, 0.8421052631578947, 0.8421052631578947, 0.8421052631578947, 0.8421052631578947, 0.8421052631578947, 0.8421052631578947, 0.8421052631578947, 0.8421052631578947, 0.8421052631578947, 0.8421052631578947, 0.8421052631578947, 0.8421052631578947, 0.8421052631578947, 0.8421052631578947, 0.8421052631578947, 0.8421052631578947, 0.8421052631578947, 0.8421052631578947, 0.8421052631578947, 0.8421052631578947, 0.8421052631578947, 0.8421052631578947, 0.8421052631578947, 0.8421052631578947, 0.8421052631578947, 0.8421052631578947, 0.8421052631578947, 0.8421052631578947, 0.8421052631578947, 0.8421052631578947, 0.8421052631578947, 0.8421052631578947, 0.8421052631578947, 0.8421052631578947, 0.8421052631578947, 0.8421052631578947, 0.8421052631578947, 0.8421052631578947, 0.8421052631578947, 0.8421052631578947, 0.8421052631578947, 0.8421052631578947, 0.8421052631578947, 0.8421052631578947, 0.8421052631578947, 0.8421052631578947, 0.8421052631578947, 0.8421052631578947, 0.8421052631578947, 0.8421052631578947, 0.8421052631578947, 0.8421052631578947, 0.8421052631578947, 0.8421052631578947, 0.8421052631578947, 0.8421052631578947, 0.8421052631578947, 0.8421052631578947, 0.8421052631578947]\n",
      "Program Synthesis Validation Accuracy:  0.8421052631578947\n"
     ]
    },
    {
     "data": {
      "image/png": "[encoded data removed]",
      "text/plain": [
       "<matplotlib.figure.Figure at 0x7f55e6d09518>"
      ]
     },
     "metadata": {},
     "output_type": "display_data"
    }
   ],
   "source": [
    "plt.hist(training_marginals[-1], bins=10, range=(0.0,1.0)); \n",
    "plt.title('Final Distribution');\n",
    "\n",
    "print(\"Program Synthesis Train Accuracy: \", training_accuracy[-1])\n",
    "print(\"Program Synthesis Train Coverage: \", training_coverage[-1])\n",
    "print(validation_accuracy)\n",
    "print(\"Program Synthesis Validation Accuracy: \", validation_accuracy[-1])"
   ]
  },
  {
   "cell_type": "markdown",
   "metadata": {},
   "source": [
    "### Save Training Set Labels \n",
    "We save the training set labels Reef generates that we use in the next notebook to train a simple LSTM model."
   ]
  },
  {
   "cell_type": "code",
   "execution_count": null,
   "metadata": {},
   "outputs": [],
   "source": [
    "filepath = './data/' + dataset\n",
    "np.save(filepath+'_reef.npy', training_marginals[-1])"
   ]
  },
  {
   "cell_type": "code",
   "execution_count": null,
   "metadata": {},
   "outputs": [],
   "source": []
  }
 ],
 "metadata": {
  "anaconda-cloud": {},
  "kernelspec": {
   "display_name": "Python 3",
   "language": "python",
   "name": "python3"
  },
  "language_info": {
   "codemirror_mode": {
    "name": "ipython",
    "version": 3
   },
   "file_extension": ".py",
   "mimetype": "text/x-python",
   "name": "python",
   "nbconvert_exporter": "python",
   "pygments_lexer": "ipython3",
   "version": "3.6.4"
  }
 },
 "nbformat": 4,
 "nbformat_minor": 2
}
