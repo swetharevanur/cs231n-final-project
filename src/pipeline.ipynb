{
 "cells": [
  {
   "cell_type": "markdown",
   "metadata": {},
   "source": [
    "# Automated Visual Weak Supervision for Object Recognition in Videos"
   ]
  },
  {
   "cell_type": "code",
   "execution_count": 33,
   "metadata": {},
   "outputs": [
    {
     "name": "stdout",
     "output_type": "stream",
     "text": [
      "The autoreload extension is already loaded. To reload it, use:\n",
      "  %reload_ext autoreload\n"
     ]
    }
   ],
   "source": [
    "%load_ext autoreload\n",
    "%autoreload 2\n",
    "\n",
    "import sys\n",
    "import warnings\n",
    "if not sys.warnoptions:\n",
    "    warnings.simplefilter(\"ignore\")\n",
    "\n",
    "from process_tubes import *\n",
    "from reef_label_tubes import reef_label\n",
    "import ClassifierLoader\n",
    "from tube_classifier import *"
   ]
  },
  {
   "cell_type": "markdown",
   "metadata": {},
   "source": [
    "## 1. Split the Dataset\n",
    "\n",
    "Here, we split our dataset into an unlabeled train set (30 objects), a labeled validation set (300), and a labeled test set (70). Each object maps to an action tube consisting of 30 frames."
   ]
  },
  {
   "cell_type": "code",
   "execution_count": 49,
   "metadata": {},
   "outputs": [
    {
     "name": "stdout",
     "output_type": "stream",
     "text": [
      "3 labeled train examples\n",
      "10 unlabeled train examples\n",
      "7 labeled test examples\n"
     ]
    }
   ],
   "source": [
    "labeled_vehicles, unlabeled_vehicles, test_vehicles = get_objects((3, 10, 7))\n",
    "\n",
    "print(labeled_vehicles.shape[0], 'labeled train examples')\n",
    "print(unlabeled_vehicles.shape[0], 'unlabeled train examples')\n",
    "print(test_vehicles.shape[0], 'labeled test examples')"
   ]
  },
  {
   "cell_type": "markdown",
   "metadata": {},
   "source": [
    "## 2. Create Action Tubes for Weak Supervision\n",
    "\n",
    "At this step, we read in our frames, encode them with our optimized autoencoder, and concatenate them to make action tubes."
   ]
  },
  {
   "cell_type": "code",
   "execution_count": 50,
   "metadata": {},
   "outputs": [
    {
     "name": "stdout",
     "output_type": "stream",
     "text": [
      "Producing action tubes...\n",
      "Creating action tube for object index 3899\n",
      "Creating action tube for object index 3760\n",
      "Creating action tube for object index 1434\n"
     ]
    }
   ],
   "source": [
    "val_primitive_matrix, val_tubes = tube_loader(labeled_vehicles, label = True)\n",
    "val_ground = [label for tube in val_tubes for label in tube.tube_true_labels]"
   ]
  },
  {
   "cell_type": "code",
   "execution_count": 51,
   "metadata": {},
   "outputs": [
    {
     "name": "stdout",
     "output_type": "stream",
     "text": [
      "Using device: cuda\n",
      "Producing action tubes...\n",
      "Creating action tube for object index 927\n",
      "Creating action tube for object index 1087\n",
      "Creating action tube for object index 4009\n",
      "Creating action tube for object index 3872\n",
      "Creating action tube for object index 3642\n",
      "Creating action tube for object index 1485\n",
      "Creating action tube for object index 2136\n",
      "Creating action tube for object index 1179\n",
      "Creating action tube for object index 2162\n",
      "Creating action tube for object index 931\n"
     ]
    }
   ],
   "source": [
    "train_primitive_matrix, train_tubes = tube_loader(unlabeled_vehicles)"
   ]
  },
  {
   "cell_type": "markdown",
   "metadata": {},
   "source": [
    "## 3. Apply Visual Weak Supervision\n",
    "\n",
    "To perform visual weak supervision, we pass our frame encodings from the unlabeled train set and our labeled validation set into Reef. Note that we have already tested various methods for weak supervision, and so the `train_ground` parameter is not used here. Please refer to the `generate*.ipynb` notebooks to see our weak supervision experiments."
   ]
  },
  {
   "cell_type": "code",
   "execution_count": 52,
   "metadata": {},
   "outputs": [],
   "source": [
    "unlabeled_frame_nums = [frame_num for tube in train_tubes for frame_num in tube.sampled_frames]\n",
    "weak_train = reef_label(train_primitive_matrix, val_primitive_matrix, val_ground, None, unlabeled_frame_nums)"
   ]
  },
  {
   "cell_type": "code",
   "execution_count": 53,
   "metadata": {
    "scrolled": true
   },
   "outputs": [
    {
     "name": "stdout",
     "output_type": "stream",
     "text": [
      "Using device: cuda\n",
      "{58470.0: 0.00291669906996321, 58524.0: 0.00291669906996321, 58462.0: 0.00291669906996321, 58464.0: 0.00291669906996321, 58509.0: 0.00291669906996321, 58540.0: 0.00291669906996321, 58503.0: 0.00291669906996321, 58445.0: 0.00291669906996321, 58521.0: 0.00291669906996321, 58453.0: 0.00291669906996321, 58523.0: 0.00291669906996321, 58463.0: 0.00291669906996321, 58458.0: 0.00291669906996321, 58478.0: 0.00291669906996321, 58485.0: 0.00291669906996321, 58467.0: 0.00291669906996321, 58459.0: 0.00291669906996321, 58483.0: 0.00291669906996321, 58514.0: 0.00291669906996321, 58522.0: 0.00291669906996321, 58533.0: 0.00291669906996321, 58456.0: 0.00291669906996321, 58499.0: 0.00291669906996321, 58472.0: 0.00291669906996321, 58544.0: 0.00291669906996321, 58520.0: 0.00291669906996321, 58479.0: 0.00291669906996321, 58548.0: 0.00291669906996321, 58516.0: 0.00291669906996321, 58489.0: 0.00291669906996321, 67170.0: 0.00291669906996321, 67160.0: 0.00291669906996321, 67242.0: 0.00291669906996321, 67291.0: 0.00291669906996321, 67165.0: 0.00291669906996321, 67296.0: 0.00291669906996321, 67167.0: 0.00291669906996321, 67215.0: 0.00291669906996321, 67276.0: 0.00291669906996321, 67329.0: 0.00291669906996321, 67284.0: 0.00291669906996321, 67265.0: 0.00291669906996321, 67171.0: 0.00291669906996321, 67234.0: 0.00291669906996321, 67203.0: 0.00291669906996321, 67194.0: 0.00291669906996321, 67256.0: 0.00291669906996321, 67287.0: 0.00291669906996321, 67107.0: 0.00291669906996321, 67124.0: 0.00291669906996321, 67053.0: 0.00291669906996321, 67267.0: 0.00291669906996321, 67105.0: 0.00291669906996321, 67317.0: 0.00291669906996321, 67156.0: 0.00291669906996321, 67125.0: 0.00291669906996321, 67071.0: 0.00291669906996321, 67078.0: 0.00291669906996321, 67282.0: 0.00291669906996321, 67144.0: 0.00291669906996321, 949419.0: 0.00291669906996321, 949247.0: 0.00291669906996321, 949301.0: 0.00291669906996321, 949339.0: 0.00291669906996321, 949069.0: 0.00291669906996321, 949205.0: 0.00291669906996321, 949392.0: 0.00291669906996321, 949424.0: 0.00291669906996321, 949144.0: 0.00291669906996321, 949322.0: 0.00291669906996321, 949328.0: 0.00291669906996321, 949217.0: 0.00291669906996321, 949361.0: 0.00291669906996321, 949356.0: 0.00291669906996321, 949354.0: 0.00291669906996321, 949067.0: 0.00291669906996321, 949160.0: 0.00291669906996321, 949294.0: 0.00291669906996321, 949380.0: 0.00291669906996321, 949397.0: 0.00291669906996321, 949390.0: 0.00291669906996321, 949264.0: 0.00291669906996321, 949110.0: 0.00291669906996321, 949365.0: 0.00291669906996321, 949410.0: 0.00291669906996321, 949142.0: 0.00291669906996321, 949274.0: 0.00291669906996321, 949149.0: 0.00291669906996321, 949309.0: 0.00291669906996321, 949305.0: 0.00291669906996321, 907941.0: 0.00291669906996321, 907942.0: 0.00291669906996321, 907970.0: 0.00291669906996321, 907949.0: 0.00291669906996321, 907959.0: 0.00291669906996321, 907971.0: 0.00291669906996321, 907961.0: 0.00291669906996321, 907965.0: 0.00291669906996321, 907958.0: 0.00291669906996321, 907940.0: 0.00291669906996321, 907976.0: 0.00291669906996321, 907952.0: 0.00291669906996321, 907951.0: 0.00291669906996321, 907972.0: 0.00291669906996321, 907946.0: 0.00291669906996321, 907973.0: 0.00291669906996321, 907968.0: 0.00291669906996321, 907963.0: 0.00291669906996321, 907966.0: 0.00291669906996321, 907948.0: 0.00291669906996321, 907974.0: 0.00291669906996321, 907960.0: 0.00291669906996321, 907967.0: 0.00291669906996321, 907947.0: 0.00291669906996321, 907950.0: 0.00291669906996321, 907954.0: 0.00291669906996321, 907955.0: 0.00291669906996321, 907944.0: 0.00291669906996321, 907964.0: 0.00291669906996321, 907962.0: 0.00291669906996321, 818794.0: 0.00291669906996321, 818619.0: 0.00291669906996321, 818753.0: 0.00291669906996321, 818695.0: 0.00291669906996321, 818882.0: 0.00291669906996321, 818790.0: 0.00291669906996321, 818746.0: 0.00291669906996321, 818829.0: 0.00291669906996321, 818780.0: 0.00291669906996321, 818611.0: 0.00291669906996321, 818853.0: 0.00291669906996321, 818798.0: 0.00291669906996321, 818652.0: 0.00291669906996321, 818663.0: 0.00291669906996321, 818871.0: 0.00291669906996321, 818758.0: 0.00291669906996321, 818658.0: 0.00291669906996321, 818633.0: 0.00291669906996321, 818763.0: 0.00291669906996321, 818864.0: 0.00291669906996321, 818786.0: 0.00291669906996321, 818696.0: 0.00291669906996321, 818741.0: 0.00291669906996321, 818669.0: 0.00291669906996321, 818792.0: 0.00291669906996321, 818796.0: 0.00291669906996321, 818867.0: 0.00291669906996321, 818889.0: 0.00291669906996321, 818612.0: 0.00291669906996321, 818640.0: 0.00291669906996321, 91619.0: 0.00291669906996321, 91254.0: 0.00291669906996321, 91404.0: 0.00291669906996321, 91212.0: 0.00291669906996321, 91472.0: 0.00291669906996321, 91616.0: 0.00291669906996321, 91287.0: 0.00291669906996321, 91271.0: 0.00291669906996321, 91303.0: 0.00291669906996321, 91395.0: 0.00291669906996321, 91486.0: 0.00291669906996321, 91487.0: 0.00291669906996321, 91227.0: 0.00291669906996321, 91294.0: 0.00291669906996321, 91617.0: 0.00291669906996321, 91315.0: 0.00291669906996321, 91295.0: 0.00291669906996321, 91399.0: 0.00291669906996321, 91636.0: 0.00291669906996321, 91416.0: 0.00291669906996321, 91493.0: 0.00291669906996321, 91477.0: 0.00291669906996321, 91402.0: 0.00291669906996321, 91297.0: 0.00291669906996321, 91342.0: 0.00291669906996321, 91618.0: 0.00291669906996321, 91644.0: 0.00291669906996321, 91409.0: 0.00291669906996321, 91610.0: 0.00291669906996321, 91459.0: 0.00291669906996321, 144558.0: 0.00291669906996321, 144576.0: 0.00291669906996321, 144577.0: 0.00291669906996321, 144527.0: 0.00291669906996321, 144581.0: 0.00291669906996321, 144530.0: 0.00291669906996321, 144548.0: 0.00291669906996321, 144458.0: 0.00291669906996321, 144421.0: 0.00291669906996321, 144474.0: 0.00291669906996321, 144415.0: 0.00291669906996321, 144494.0: 0.00291669906996321, 144435.0: 0.00291669906996321, 144569.0: 0.00291669906996321, 144562.0: 0.00291669906996321, 144573.0: 0.00291669906996321, 144526.0: 0.00291669906996321, 144445.0: 0.00291669906996321, 144572.0: 0.00291669906996321, 144533.0: 0.00291669906996321, 144492.0: 0.00291669906996321, 144446.0: 0.00291669906996321, 144432.0: 0.00291669906996321, 144380.0: 0.00291669906996321, 144547.0: 0.00291669906996321, 144584.0: 0.00291669906996321, 144552.0: 0.00291669906996321, 144410.0: 0.00291669906996321, 144443.0: 0.00291669906996321, 144603.0: 0.00291669906996321, 71287.0: 0.00291669906996321, 71245.0: 0.00291669906996321, 71240.0: 0.00291669906996321, 71264.0: 0.00291669906996321, 71257.0: 0.00291669906996321, 71171.0: 0.00291669906996321, 71259.0: 0.00291669906996321, 71269.0: 0.00291669906996321, 71154.0: 0.00291669906996321, 71317.0: 0.00291669906996321, 71201.0: 0.00291669906996321, 71293.0: 0.00291669906996321, 71270.0: 0.00291669906996321, 71286.0: 0.00291669906996321, 71100.0: 0.00291669906996321, 71256.0: 0.00291669906996321, 71312.0: 0.00291669906996321, 71207.0: 0.00291669906996321, 71303.0: 0.00291669906996321, 71387.0: 0.00291669906996321, 71124.0: 0.00291669906996321, 71322.0: 0.00291669906996321, 71263.0: 0.00291669906996321, 71227.0: 0.00291669906996321, 71385.0: 0.00291669906996321, 71254.0: 0.00291669906996321, 71217.0: 0.00291669906996321, 71288.0: 0.00291669906996321, 71294.0: 0.00291669906996321, 71218.0: 0.00291669906996321, 146519.0: 0.00291669906996321, 146488.0: 0.00291669906996321, 146489.0: 0.00291669906996321, 146476.0: 0.00291669906996321, 146533.0: 0.00291669906996321, 146492.0: 0.00291669906996321, 146482.0: 0.00291669906996321, 146478.0: 0.00291669906996321, 146529.0: 0.00291669906996321, 146490.0: 0.00291669906996321, 146521.0: 0.00291669906996321, 146479.0: 0.00291669906996321, 146527.0: 0.00291669906996321, 146485.0: 0.00291669906996321, 146484.0: 0.00291669906996321, 146518.0: 0.00291669906996321, 146534.0: 0.00291669906996321, 146486.0: 0.00291669906996321, 146526.0: 0.00291669906996321, 146522.0: 0.00291669906996321, 146562.0: 0.00291669906996321, 146496.0: 0.00291669906996321, 146528.0: 0.00291669906996321, 146474.0: 0.00291669906996321, 146493.0: 0.00291669906996321, 146501.0: 0.00291669906996321, 146525.0: 0.00291669906996321, 146532.0: 0.00291669906996321, 146520.0: 0.00291669906996321, 146530.0: 0.00291669906996321, 58717.0: 0.00291669906996321, 58744.0: 0.00291669906996321, 58774.0: 0.00291669906996321, 58737.0: 0.00291669906996321, 58726.0: 0.00291669906996321, 58722.0: 0.00291669906996321, 58685.0: 0.00291669906996321, 58692.0: 0.00291669906996321, 58739.0: 0.00291669906996321, 58731.0: 0.00291669906996321, 58749.0: 0.00291669906996321, 58719.0: 0.00291669906996321, 58755.0: 0.00291669906996321, 58695.0: 0.00291669906996321, 58754.0: 0.00291669906996321, 58756.0: 0.00291669906996321, 58693.0: 0.00291669906996321, 58704.0: 0.00291669906996321, 58734.0: 0.00291669906996321, 58718.0: 0.00291669906996321, 58753.0: 0.00291669906996321, 58727.0: 0.00291669906996321, 58757.0: 0.00291669906996321, 58705.0: 0.00291669906996321, 58745.0: 0.00291669906996321, 58714.0: 0.00291669906996321, 58747.0: 0.00291669906996321, 58699.0: 0.00291669906996321, 58743.0: 0.00291669906996321, 58715.0: 0.00291669906996321}\n"
     ]
    }
   ],
   "source": [
    "print(weak_train)"
   ]
  },
  {
   "cell_type": "markdown",
   "metadata": {},
   "source": [
    "## 4. Weakly Label Training Tubes\n",
    "\n",
    "In the previous step, we generate probabilistic weak labels for each frame. Here, we aggregate all the frame-level labels for all frames in the tube and assign the tube the majority label. This step is necessary for future tube-level classification."
   ]
  },
  {
   "cell_type": "code",
   "execution_count": 54,
   "metadata": {},
   "outputs": [
    {
     "name": "stdout",
     "output_type": "stream",
     "text": [
      "0 None\n",
      "0 None\n",
      "0 None\n",
      "0 None\n",
      "0 None\n",
      "0 None\n",
      "0 None\n",
      "0 None\n",
      "0 None\n",
      "0 None\n",
      "0\n",
      "0\n",
      "0\n"
     ]
    }
   ],
   "source": [
    "for tube in train_tubes:\n",
    "    tube.assign_label(weak_train)\n",
    "    print(tube.pred_vehicle, tube.true_vehicle)\n",
    "    \n",
    "for tube in val_tubes:\n",
    "    tube.true_vehicle = 0 if tube.true_vehicle == -1 else 1\n",
    "    print(tube.true_vehicle)"
   ]
  },
  {
   "cell_type": "markdown",
   "metadata": {},
   "source": [
    "## 5. Run Classifier\n",
    "\n",
    "Here, we demonstrate hyperparameter tuning with our final 3D-CNN classifier built on our weakly-labeled tubes. This classifier assigns a given tube either a 1 (for car) or a 0 (for truck). We have conducted several experiments that involve varying the volume of weakly-labeled data passed into the classifier and monitor relative performance."
   ]
  },
  {
   "cell_type": "code",
   "execution_count": 55,
   "metadata": {},
   "outputs": [
    {
     "name": "stdout",
     "output_type": "stream",
     "text": [
      "Epoch 0\n",
      "Epoch Loss = 0.69520\n",
      "Classified 3 / 3 correctly (100.00)\n",
      "Epoch 1\n",
      "Epoch Loss = 0.56109\n",
      "Classified 3 / 3 correctly (100.00)\n",
      "Epoch 2\n",
      "Epoch Loss = 0.31614\n",
      "Classified 3 / 3 correctly (100.00)\n",
      "Epoch 3\n",
      "Epoch Loss = 0.32248\n",
      "Classified 3 / 3 correctly (100.00)\n",
      "Epoch 4\n",
      "Epoch Loss = 0.31326\n",
      "Classified 3 / 3 correctly (100.00)\n",
      "Epoch 5\n",
      "Epoch Loss = 0.31326\n",
      "Classified 3 / 3 correctly (100.00)\n",
      "Epoch 6\n",
      "Epoch Loss = 0.31326\n",
      "Classified 3 / 3 correctly (100.00)\n",
      "Epoch 7\n",
      "Epoch Loss = 0.31326\n",
      "Classified 3 / 3 correctly (100.00)\n",
      "Epoch 8\n",
      "Epoch Loss = 0.31326\n",
      "Classified 3 / 3 correctly (100.00)\n",
      "Epoch 9\n",
      "Epoch Loss = 0.31326\n",
      "Classified 3 / 3 correctly (100.00)\n",
      "Final Loss = 0.31326\n",
      "Learning Rate = 0.01000, loss = 0.3133\n",
      "Epoch 0\n",
      "Epoch Loss = 0.83397\n",
      "Classified 0 / 3 correctly (0.00)\n",
      "Epoch 1\n",
      "Epoch Loss = 0.80788\n",
      "Classified 3 / 3 correctly (100.00)\n",
      "Epoch 2\n",
      "Epoch Loss = 0.63181\n",
      "Classified 3 / 3 correctly (100.00)\n",
      "Epoch 3\n",
      "Epoch Loss = 0.54802\n",
      "Classified 3 / 3 correctly (100.00)\n",
      "Epoch 4\n",
      "Epoch Loss = 0.48217\n",
      "Classified 3 / 3 correctly (100.00)\n",
      "Epoch 5\n",
      "Epoch Loss = 0.41907\n",
      "Classified 3 / 3 correctly (100.00)\n",
      "Epoch 6\n",
      "Epoch Loss = 0.36945\n",
      "Classified 3 / 3 correctly (100.00)\n",
      "Epoch 7\n",
      "Epoch Loss = 0.33902\n",
      "Classified 3 / 3 correctly (100.00)\n",
      "Epoch 8\n",
      "Epoch Loss = 0.32397\n",
      "Classified 3 / 3 correctly (100.00)\n",
      "Epoch 9\n",
      "Epoch Loss = 0.31743\n",
      "Classified 3 / 3 correctly (100.00)\n",
      "Final Loss = 0.31743\n",
      "Learning Rate = 0.00100, loss = 0.3174\n",
      "Epoch 0\n",
      "Epoch Loss = 0.63755\n",
      "Classified 0 / 3 correctly (0.00)\n",
      "Epoch 1\n",
      "Epoch Loss = 0.73511\n",
      "Classified 0 / 3 correctly (0.00)\n",
      "Epoch 2\n",
      "Epoch Loss = 0.71856\n",
      "Classified 0 / 3 correctly (0.00)\n",
      "Epoch 3\n",
      "Epoch Loss = 0.69909\n",
      "Classified 3 / 3 correctly (100.00)\n",
      "Epoch 4\n",
      "Epoch Loss = 0.67841\n",
      "Classified 3 / 3 correctly (100.00)\n",
      "Epoch 5\n",
      "Epoch Loss = 0.65822\n",
      "Classified 3 / 3 correctly (100.00)\n",
      "Epoch 6\n",
      "Epoch Loss = 0.63800\n",
      "Classified 3 / 3 correctly (100.00)\n",
      "Epoch 7\n",
      "Epoch Loss = 0.61839\n",
      "Classified 3 / 3 correctly (100.00)\n",
      "Epoch 8\n",
      "Epoch Loss = 0.60058\n",
      "Classified 3 / 3 correctly (100.00)\n",
      "Epoch 9\n",
      "Epoch Loss = 0.58416\n",
      "Classified 3 / 3 correctly (100.00)\n",
      "Final Loss = 0.58416\n",
      "Learning Rate = 0.00010, loss = 0.5842\n",
      "Epoch 0\n",
      "Epoch Loss = 0.71701\n",
      "Classified 3 / 3 correctly (100.00)\n",
      "Epoch 1\n",
      "Epoch Loss = 0.66405\n",
      "Classified 3 / 3 correctly (100.00)\n",
      "Epoch 2\n",
      "Epoch Loss = 0.66264\n",
      "Classified 3 / 3 correctly (100.00)\n",
      "Epoch 3\n",
      "Epoch Loss = 0.66090\n",
      "Classified 3 / 3 correctly (100.00)\n",
      "Epoch 4\n",
      "Epoch Loss = 0.65898\n",
      "Classified 3 / 3 correctly (100.00)\n",
      "Epoch 5\n",
      "Epoch Loss = 0.65695\n",
      "Classified 3 / 3 correctly (100.00)\n",
      "Epoch 6\n",
      "Epoch Loss = 0.65486\n",
      "Classified 3 / 3 correctly (100.00)\n",
      "Epoch 7\n",
      "Epoch Loss = 0.65273\n",
      "Classified 3 / 3 correctly (100.00)\n",
      "Epoch 8\n",
      "Epoch Loss = 0.65057\n",
      "Classified 3 / 3 correctly (100.00)\n",
      "Epoch 9\n",
      "Epoch Loss = 0.64840\n",
      "Classified 3 / 3 correctly (100.00)\n",
      "Final Loss = 0.64840\n",
      "Learning Rate = 0.00001, loss = 0.6484\n"
     ]
    }
   ],
   "source": [
    "# val_data = ClassifierLoader.ClassifierLoader(val_primitive_matrix, val_tubes, 'val')\n",
    "# val_data[0]\n",
    "\n",
    "# train_data = ClassifierLoader.ClassifierLoader(train_primitive_matrix, train_tubes, 'train')\n",
    "# train_data[0]\n",
    "\n",
    "tune(train_primitive_matrix, train_tubes, val_primitive_matrix, val_tubes)"
   ]
  },
  {
   "cell_type": "code",
   "execution_count": null,
   "metadata": {},
   "outputs": [],
   "source": []
  },
  {
   "cell_type": "code",
   "execution_count": null,
   "metadata": {},
   "outputs": [],
   "source": []
  }
 ],
 "metadata": {
  "kernelspec": {
   "display_name": "Python 3",
   "language": "python",
   "name": "python3"
  },
  "language_info": {
   "codemirror_mode": {
    "name": "ipython",
    "version": 3
   },
   "file_extension": ".py",
   "mimetype": "text/x-python",
   "name": "python",
   "nbconvert_exporter": "python",
   "pygments_lexer": "ipython3",
   "version": "3.6.4"
  }
 },
 "nbformat": 4,
 "nbformat_minor": 2
}
