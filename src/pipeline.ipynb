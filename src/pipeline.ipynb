{
 "cells": [
  {
   "cell_type": "markdown",
   "metadata": {},
   "source": [
    "# Automated Visual Weak Supervision for Object Recognition in Videos"
   ]
  },
  {
   "cell_type": "code",
   "execution_count": 1,
   "metadata": {},
   "outputs": [
    {
     "name": "stderr",
     "output_type": "stream",
     "text": [
      "/home/shared/anaconda3/lib/python3.6/site-packages/sklearn/cross_validation.py:41: DeprecationWarning: This module was deprecated in version 0.18 in favor of the model_selection module into which all the refactored classes and functions are moved. Also note that the interface of the new CV iterators are different from that of this module. This module will be removed in 0.20.\n",
      "  \"This module will be removed in 0.20.\", DeprecationWarning)\n"
     ]
    },
    {
     "name": "stdout",
     "output_type": "stream",
     "text": [
      "Using device: cuda\n"
     ]
    }
   ],
   "source": [
    "%load_ext autoreload\n",
    "%autoreload 2\n",
    "\n",
    "import sys\n",
    "import warnings\n",
    "if not sys.warnoptions:\n",
    "    warnings.simplefilter(\"ignore\")\n",
    "import random\n",
    "import numpy as np\n",
    "np.random.seed(695)\n",
    "from sklearn import metrics\n",
    "import matplotlib.pyplot as plt\n",
    "\n",
    "from process_tubes import *\n",
    "from reef_label_tubes import reef_label\n",
    "import ClassifierLoader\n",
    "from tube_classifier import *\n",
    "\n",
    "NUM_FRAMES_PER_TUBE = 30"
   ]
  },
  {
   "cell_type": "markdown",
   "metadata": {},
   "source": [
    "## 1. Split the Dataset\n",
    "\n",
    "Here, we split our dataset into an unlabeled train set (30 objects), a labeled validation set (300), and a labeled test set (70). Each object maps to an action tube consisting of 30 frames."
   ]
  },
  {
   "cell_type": "code",
   "execution_count": 2,
   "metadata": {},
   "outputs": [
    {
     "name": "stdout",
     "output_type": "stream",
     "text": [
      "30 labeled train examples\n",
      "300 unlabeled train examples\n",
      "70 labeled test examples\n"
     ]
    }
   ],
   "source": [
    "labeled_vehicles, unlabeled_vehicles, test_vehicles = get_objects((30, 300, 70))\n",
    "\n",
    "print(labeled_vehicles.shape[0], 'labeled train examples')\n",
    "print(unlabeled_vehicles.shape[0], 'unlabeled train examples')\n",
    "print(test_vehicles.shape[0], 'labeled test examples')"
   ]
  },
  {
   "cell_type": "markdown",
   "metadata": {},
   "source": [
    "## 2. Create Action Tubes for Weak Supervision\n",
    "\n",
    "At this step, we read in our frames, encode them with our optimized convolutional autoencoder, and concatenate them to make action tubes."
   ]
  },
  {
   "cell_type": "code",
   "execution_count": 3,
   "metadata": {},
   "outputs": [
    {
     "name": "stdout",
     "output_type": "stream",
     "text": [
      "Producing action tubes...\n",
      "Creating action tube for object index 4008\n",
      "Creating action tube for object index 2148\n",
      "Creating action tube for object index 2619\n",
      "Creating action tube for object index 2488\n",
      "Creating action tube for object index 4115\n",
      "Creating action tube for object index 2921\n",
      "Creating action tube for object index 2506\n",
      "Creating action tube for object index 1480\n",
      "Creating action tube for object index 105\n",
      "Creating action tube for object index 705\n",
      "Creating action tube for object index 547\n",
      "Creating action tube for object index 3598\n",
      "Creating action tube for object index 4057\n",
      "Creating action tube for object index 1559\n",
      "Creating action tube for object index 3996\n",
      "Creating action tube for object index 3792\n",
      "Creating action tube for object index 3197\n",
      "Creating action tube for object index 3973\n",
      "Creating action tube for object index 80\n",
      "Creating action tube for object index 3190\n",
      "Creating action tube for object index 302\n",
      "Creating action tube for object index 3472\n",
      "Creating action tube for object index 2500\n",
      "Creating action tube for object index 3525\n",
      "Creating action tube for object index 1187\n",
      "Creating action tube for object index 3225\n",
      "Creating action tube for object index 4062\n",
      "Creating action tube for object index 4005\n",
      "Creating action tube for object index 2548\n",
      "Creating action tube for object index 138\n"
     ]
    }
   ],
   "source": [
    "val_primitive_matrix, val_tubes = tube_loader(labeled_vehicles, label = True)\n",
    "val_ground = [label for tube in val_tubes for label in tube.tube_true_labels]"
   ]
  },
  {
   "cell_type": "code",
   "execution_count": 4,
   "metadata": {},
   "outputs": [
    {
     "name": "stdout",
     "output_type": "stream",
     "text": [
      "Producing action tubes...\n",
      "Creating action tube for object index 2470\n",
      "Creating action tube for object index 3365\n",
      "Creating action tube for object index 3298\n",
      "Creating action tube for object index 4107\n",
      "Creating action tube for object index 2908\n",
      "Creating action tube for object index 32\n",
      "Creating action tube for object index 1351\n",
      "Creating action tube for object index 2691\n",
      "Creating action tube for object index 3409\n",
      "Creating action tube for object index 3161\n",
      "Creating action tube for object index 1563\n",
      "Creating action tube for object index 3891\n",
      "Creating action tube for object index 2298\n",
      "Creating action tube for object index 341\n",
      "Creating action tube for object index 3427\n",
      "Creating action tube for object index 2990\n",
      "Creating action tube for object index 3085\n",
      "Creating action tube for object index 177\n",
      "Creating action tube for object index 3266\n",
      "Creating action tube for object index 3725\n",
      "Creating action tube for object index 259\n",
      "Creating action tube for object index 2346\n",
      "Creating action tube for object index 2362\n",
      "Creating action tube for object index 4045\n",
      "Creating action tube for object index 3815\n",
      "Creating action tube for object index 1247\n",
      "Creating action tube for object index 1969\n",
      "Creating action tube for object index 3308\n",
      "Creating action tube for object index 293\n",
      "Creating action tube for object index 1133\n",
      "Creating action tube for object index 57\n",
      "Creating action tube for object index 3253\n",
      "Creating action tube for object index 2115\n",
      "Creating action tube for object index 3630\n",
      "Creating action tube for object index 906\n",
      "Creating action tube for object index 3076\n",
      "Creating action tube for object index 2652\n",
      "Creating action tube for object index 3222\n",
      "Creating action tube for object index 1998\n",
      "Creating action tube for object index 3282\n",
      "Creating action tube for object index 3488\n",
      "Creating action tube for object index 117\n",
      "Creating action tube for object index 1408\n",
      "Creating action tube for object index 754\n",
      "Creating action tube for object index 3485\n",
      "Creating action tube for object index 1178\n",
      "Creating action tube for object index 1479\n",
      "Creating action tube for object index 3960\n",
      "Creating action tube for object index 3175\n",
      "Creating action tube for object index 3450\n",
      "Creating action tube for object index 2777\n",
      "Creating action tube for object index 1867\n",
      "Creating action tube for object index 2909\n",
      "Creating action tube for object index 349\n",
      "Creating action tube for object index 3673\n",
      "Creating action tube for object index 3463\n",
      "Creating action tube for object index 3658\n",
      "Creating action tube for object index 1515\n",
      "Creating action tube for object index 2753\n",
      "Creating action tube for object index 58\n",
      "Creating action tube for object index 130\n",
      "Creating action tube for object index 3237\n",
      "Creating action tube for object index 3760\n",
      "Creating action tube for object index 1693\n",
      "Creating action tube for object index 2249\n",
      "Creating action tube for object index 3759\n",
      "Creating action tube for object index 723\n",
      "Creating action tube for object index 4003\n",
      "Creating action tube for object index 4006\n",
      "Creating action tube for object index 1667\n",
      "Creating action tube for object index 3457\n",
      "Creating action tube for object index 2423\n",
      "Creating action tube for object index 3783\n",
      "Creating action tube for object index 1069\n",
      "Creating action tube for object index 311\n",
      "Creating action tube for object index 2847\n",
      "Creating action tube for object index 3685\n",
      "Creating action tube for object index 3958\n",
      "Creating action tube for object index 3929\n",
      "Creating action tube for object index 645\n",
      "Creating action tube for object index 3603\n",
      "Creating action tube for object index 3807\n",
      "Creating action tube for object index 3353\n",
      "Creating action tube for object index 3371\n",
      "Creating action tube for object index 1138\n",
      "Creating action tube for object index 1380\n",
      "Creating action tube for object index 677\n",
      "Creating action tube for object index 4162\n",
      "Creating action tube for object index 15\n",
      "Creating action tube for object index 345\n",
      "Creating action tube for object index 2636\n",
      "Creating action tube for object index 3851\n",
      "Creating action tube for object index 927\n",
      "Creating action tube for object index 3498\n",
      "Creating action tube for object index 1232\n",
      "Creating action tube for object index 1271\n",
      "Creating action tube for object index 3183\n",
      "Creating action tube for object index 1225\n",
      "Creating action tube for object index 3811\n",
      "Creating action tube for object index 3216\n",
      "Creating action tube for object index 81\n",
      "Creating action tube for object index 3139\n",
      "Creating action tube for object index 1379\n",
      "Creating action tube for object index 2696\n",
      "Creating action tube for object index 430\n",
      "Creating action tube for object index 3110\n",
      "Creating action tube for object index 3075\n",
      "Creating action tube for object index 2443\n",
      "Creating action tube for object index 1609\n",
      "Creating action tube for object index 2195\n",
      "Creating action tube for object index 1836\n",
      "Creating action tube for object index 316\n",
      "Creating action tube for object index 1244\n",
      "Creating action tube for object index 3638\n",
      "Creating action tube for object index 3995\n",
      "Creating action tube for object index 1082\n",
      "Creating action tube for object index 3751\n",
      "Creating action tube for object index 3306\n",
      "Creating action tube for object index 1466\n",
      "Creating action tube for object index 1852\n",
      "Creating action tube for object index 3613\n",
      "Creating action tube for object index 3731\n",
      "Creating action tube for object index 2162\n",
      "Creating action tube for object index 2441\n",
      "Creating action tube for object index 1370\n",
      "Creating action tube for object index 932\n",
      "Creating action tube for object index 3857\n",
      "Creating action tube for object index 2625\n",
      "Creating action tube for object index 2566\n",
      "Creating action tube for object index 3549\n",
      "Creating action tube for object index 3103\n",
      "Creating action tube for object index 346\n",
      "Creating action tube for object index 3386\n",
      "Creating action tube for object index 3585\n",
      "Creating action tube for object index 2991\n",
      "Creating action tube for object index 2835\n",
      "Creating action tube for object index 3899\n",
      "Creating action tube for object index 1182\n",
      "Creating action tube for object index 2610\n",
      "Creating action tube for object index 4158\n",
      "Creating action tube for object index 3339\n",
      "Creating action tube for object index 865\n",
      "Creating action tube for object index 2205\n",
      "Creating action tube for object index 6\n",
      "Creating action tube for object index 3785\n",
      "Creating action tube for object index 368\n",
      "Creating action tube for object index 3128\n",
      "Creating action tube for object index 1\n",
      "Creating action tube for object index 2790\n",
      "Creating action tube for object index 1334\n",
      "Creating action tube for object index 125\n",
      "Creating action tube for object index 3120\n",
      "Creating action tube for object index 3347\n",
      "Creating action tube for object index 2266\n",
      "Creating action tube for object index 517\n",
      "Creating action tube for object index 3557\n",
      "Creating action tube for object index 90\n",
      "Creating action tube for object index 2064\n",
      "Creating action tube for object index 2338\n",
      "Creating action tube for object index 3265\n",
      "Creating action tube for object index 2370\n",
      "Creating action tube for object index 1074\n",
      "Creating action tube for object index 3381\n",
      "Creating action tube for object index 1031\n",
      "Creating action tube for object index 3345\n",
      "Creating action tube for object index 3214\n",
      "Creating action tube for object index 683\n",
      "Creating action tube for object index 2746\n",
      "Creating action tube for object index 3869\n",
      "Creating action tube for object index 656\n",
      "Creating action tube for object index 3215\n",
      "Creating action tube for object index 3868\n",
      "Creating action tube for object index 179\n",
      "Creating action tube for object index 1496\n",
      "Creating action tube for object index 3985\n",
      "Creating action tube for object index 2179\n",
      "Creating action tube for object index 3204\n",
      "Creating action tube for object index 3597\n",
      "Creating action tube for object index 2267\n",
      "Creating action tube for object index 2231\n",
      "Creating action tube for object index 3646\n",
      "Creating action tube for object index 2995\n",
      "Creating action tube for object index 3703\n",
      "Creating action tube for object index 3720\n",
      "Creating action tube for object index 1346\n",
      "Creating action tube for object index 1269\n",
      "Creating action tube for object index 4082\n",
      "Creating action tube for object index 2011\n",
      "Creating action tube for object index 661\n",
      "Creating action tube for object index 3357\n",
      "Creating action tube for object index 3786\n"
     ]
    },
    {
     "name": "stdout",
     "output_type": "stream",
     "text": [
      "Creating action tube for object index 4145\n",
      "Creating action tube for object index 3274\n",
      "Creating action tube for object index 3872\n",
      "Creating action tube for object index 3620\n",
      "Creating action tube for object index 4035\n",
      "Creating action tube for object index 3367\n",
      "Creating action tube for object index 3512\n",
      "Creating action tube for object index 3809\n",
      "Creating action tube for object index 64\n",
      "Creating action tube for object index 2521\n",
      "Creating action tube for object index 3920\n",
      "Creating action tube for object index 3151\n",
      "Creating action tube for object index 4009\n",
      "Creating action tube for object index 3189\n",
      "Creating action tube for object index 437\n",
      "Creating action tube for object index 2682\n",
      "Creating action tube for object index 2707\n",
      "Creating action tube for object index 2197\n",
      "Creating action tube for object index 874\n",
      "Creating action tube for object index 3555\n",
      "Creating action tube for object index 4085\n",
      "Creating action tube for object index 2051\n",
      "Creating action tube for object index 3983\n",
      "Creating action tube for object index 38\n",
      "Creating action tube for object index 1206\n",
      "Creating action tube for object index 3241\n",
      "Creating action tube for object index 1011\n",
      "Creating action tube for object index 3604\n",
      "Creating action tube for object index 1948\n",
      "Creating action tube for object index 1146\n",
      "Creating action tube for object index 3782\n",
      "Creating action tube for object index 4081\n",
      "Creating action tube for object index 4172\n",
      "Creating action tube for object index 3137\n",
      "Creating action tube for object index 1984\n",
      "Creating action tube for object index 1542\n",
      "Creating action tube for object index 3653\n",
      "Creating action tube for object index 3571\n",
      "Creating action tube for object index 378\n",
      "Creating action tube for object index 4094\n",
      "Creating action tube for object index 4072\n",
      "Creating action tube for object index 2406\n",
      "Creating action tube for object index 2066\n",
      "Creating action tube for object index 4138\n",
      "Creating action tube for object index 2272\n",
      "Creating action tube for object index 1179\n",
      "Creating action tube for object index 3831\n",
      "Creating action tube for object index 3113\n",
      "Creating action tube for object index 958\n",
      "Creating action tube for object index 3680\n",
      "Creating action tube for object index 3455\n",
      "Creating action tube for object index 938\n",
      "Creating action tube for object index 1030\n",
      "Creating action tube for object index 1419\n",
      "Creating action tube for object index 2697\n",
      "Creating action tube for object index 2630\n",
      "Creating action tube for object index 521\n",
      "Creating action tube for object index 1590\n",
      "Creating action tube for object index 3714\n",
      "Creating action tube for object index 2314\n",
      "Creating action tube for object index 3968\n",
      "Creating action tube for object index 3931\n",
      "Creating action tube for object index 2585\n",
      "Creating action tube for object index 3068\n",
      "Creating action tube for object index 2973\n",
      "Creating action tube for object index 1392\n",
      "Creating action tube for object index 325\n",
      "Creating action tube for object index 2639\n",
      "Creating action tube for object index 3502\n",
      "Creating action tube for object index 3631\n",
      "Creating action tube for object index 422\n",
      "Creating action tube for object index 647\n",
      "Creating action tube for object index 1194\n",
      "Creating action tube for object index 2342\n",
      "Creating action tube for object index 2561\n",
      "Creating action tube for object index 2311\n",
      "Creating action tube for object index 2581\n",
      "Creating action tube for object index 3060\n",
      "Creating action tube for object index 644\n",
      "Creating action tube for object index 3366\n",
      "Creating action tube for object index 2299\n",
      "Creating action tube for object index 1434\n",
      "Creating action tube for object index 3454\n",
      "Creating action tube for object index 215\n",
      "Creating action tube for object index 1578\n",
      "Creating action tube for object index 2427\n",
      "Creating action tube for object index 427\n",
      "Creating action tube for object index 2679\n",
      "Creating action tube for object index 544\n",
      "Creating action tube for object index 1921\n",
      "Creating action tube for object index 4175\n",
      "Creating action tube for object index 3951\n",
      "Creating action tube for object index 931\n",
      "Creating action tube for object index 1991\n",
      "Creating action tube for object index 1508\n",
      "Creating action tube for object index 2454\n",
      "Creating action tube for object index 1830\n",
      "Creating action tube for object index 2170\n",
      "Creating action tube for object index 1129\n",
      "Creating action tube for object index 3252\n",
      "Creating action tube for object index 3586\n",
      "Creating action tube for object index 3679\n",
      "Creating action tube for object index 446\n",
      "Creating action tube for object index 3672\n",
      "Creating action tube for object index 821\n",
      "Creating action tube for object index 3796\n",
      "Creating action tube for object index 2368\n",
      "Creating action tube for object index 315\n",
      "Creating action tube for object index 1331\n"
     ]
    }
   ],
   "source": [
    "train_primitive_matrix, train_tubes = tube_loader(unlabeled_vehicles, label = True)\n",
    "train_ground = [label for tube in train_tubes for label in tube.tube_true_labels]"
   ]
  },
  {
   "cell_type": "code",
   "execution_count": 6,
   "metadata": {},
   "outputs": [
    {
     "name": "stdout",
     "output_type": "stream",
     "text": [
      "Producing action tubes...\n",
      "Creating action tube for object index 5\n",
      "Creating action tube for object index 2006\n",
      "Creating action tube for object index 2820\n",
      "Creating action tube for object index 1629\n",
      "Creating action tube for object index 3133\n",
      "Creating action tube for object index 3933\n",
      "Creating action tube for object index 170\n",
      "Creating action tube for object index 2019\n",
      "Creating action tube for object index 380\n",
      "Creating action tube for object index 2891\n",
      "Creating action tube for object index 3766\n",
      "Creating action tube for object index 2770\n",
      "Creating action tube for object index 3413\n",
      "Creating action tube for object index 8\n",
      "Creating action tube for object index 1246\n",
      "Creating action tube for object index 3352\n",
      "Creating action tube for object index 3964\n",
      "Creating action tube for object index 860\n",
      "Creating action tube for object index 2646\n",
      "Creating action tube for object index 2015\n",
      "Creating action tube for object index 2857\n",
      "Creating action tube for object index 3165\n",
      "Creating action tube for object index 2949\n",
      "Creating action tube for object index 3538\n",
      "Creating action tube for object index 3004\n",
      "Creating action tube for object index 2946\n",
      "Creating action tube for object index 3122\n",
      "Creating action tube for object index 1461\n",
      "Creating action tube for object index 1267\n",
      "Creating action tube for object index 3388\n",
      "Creating action tube for object index 2558\n",
      "Creating action tube for object index 2723\n",
      "Creating action tube for object index 321\n",
      "Creating action tube for object index 3417\n",
      "Creating action tube for object index 902\n",
      "Creating action tube for object index 4150\n",
      "Creating action tube for object index 492\n",
      "Creating action tube for object index 1440\n",
      "Creating action tube for object index 4157\n",
      "Creating action tube for object index 3021\n",
      "Creating action tube for object index 729\n",
      "Creating action tube for object index 2628\n",
      "Creating action tube for object index 2655\n",
      "Creating action tube for object index 3755\n",
      "Creating action tube for object index 2127\n",
      "Creating action tube for object index 2054\n",
      "Creating action tube for object index 2705\n",
      "Creating action tube for object index 2738\n",
      "Creating action tube for object index 3337\n",
      "Creating action tube for object index 851\n",
      "Creating action tube for object index 4173\n",
      "Creating action tube for object index 2827\n",
      "Creating action tube for object index 924\n",
      "Creating action tube for object index 2416\n",
      "Creating action tube for object index 3770\n",
      "Creating action tube for object index 433\n",
      "Creating action tube for object index 3893\n",
      "Creating action tube for object index 3198\n",
      "Creating action tube for object index 605\n",
      "Creating action tube for object index 3655\n",
      "Creating action tube for object index 1387\n",
      "Creating action tube for object index 1193\n",
      "Creating action tube for object index 796\n",
      "Creating action tube for object index 2701\n",
      "Creating action tube for object index 1658\n",
      "Creating action tube for object index 586\n",
      "Creating action tube for object index 1160\n",
      "Creating action tube for object index 3671\n",
      "Creating action tube for object index 337\n",
      "Creating action tube for object index 3507\n"
     ]
    }
   ],
   "source": [
    "test_primitive_matrix, test_tubes = tube_loader(test_vehicles, label = True)\n",
    "test_ground = [label for tube in test_tubes for label in tube.tube_true_labels]"
   ]
  },
  {
   "cell_type": "code",
   "execution_count": 7,
   "metadata": {},
   "outputs": [
    {
     "name": "stdout",
     "output_type": "stream",
     "text": [
      "4050\n",
      "4950\n",
      "9000\n",
      "420\n",
      "480\n",
      "900\n"
     ]
    }
   ],
   "source": [
    "# print(val_ground)\n",
    "# print(train_ground)\n",
    "print(train_ground.count(-1))\n",
    "print(train_ground.count(1))\n",
    "print(len(train_ground))\n",
    "\n",
    "print(val_ground.count(-1))\n",
    "print(val_ground.count(1))\n",
    "print(len(val_ground))\n",
    "\n",
    "# val_ground_pos = [1] * 450\n",
    "# val_ground_neg = [-1] * 450\n",
    "# val_ground = val_ground_pos + val_ground_neg\n",
    "\n",
    "# print(val_ground.count(-1))\n",
    "# print(val_ground.count(1))\n",
    "# print(len(val_ground))\n"
   ]
  },
  {
   "cell_type": "markdown",
   "metadata": {},
   "source": [
    "## 3. Apply Visual Weak Supervision\n",
    "\n",
    "To perform visual weak supervision, we pass our frame encodings from the unlabeled train set and our labeled validation set into Reef. Note that we have already tested various methods for weak supervision, and so the `train_ground` parameter is not used here. Please refer to the `generate*.ipynb` notebooks to see our weak supervision experiments."
   ]
  },
  {
   "cell_type": "code",
   "execution_count": 8,
   "metadata": {},
   "outputs": [
    {
     "name": "stdout",
     "output_type": "stream",
     "text": [
      "Running iteration:  5\n",
      "Running iteration:  10\n",
      "Running iteration:  15\n",
      "Running iteration:  20\n"
     ]
    }
   ],
   "source": [
    "unlabeled_frame_nums = [frame_num for tube in train_tubes for frame_num in tube.sampled_frames]\n",
    "weak_train = reef_label(train_primitive_matrix, val_primitive_matrix, val_ground, None, unlabeled_frame_nums)"
   ]
  },
  {
   "cell_type": "markdown",
   "metadata": {},
   "source": [
    "## 4. Weakly Label Training Tubes\n",
    "\n",
    "In the previous step, we generate probabilistic weak labels for each frame. Here, we aggregate all the frame-level labels for all frames in the tube and assign the tube the majority label. This step is necessary for future tube-level classification."
   ]
  },
  {
   "cell_type": "code",
   "execution_count": 9,
   "metadata": {},
   "outputs": [
    {
     "name": "stdout",
     "output_type": "stream",
     "text": [
      "1 1\n",
      "1 1\n",
      "1 1\n",
      "1 -1\n",
      "1 -1\n",
      "1 1\n",
      "1 1\n",
      "0 1\n",
      "0 -1\n",
      "1 -1\n",
      "0 1\n",
      "1 1\n",
      "1 1\n",
      "1 -1\n",
      "0 -1\n",
      "1 -1\n",
      "0 -1\n",
      "1 1\n",
      "1 -1\n",
      "0 -1\n",
      "1 -1\n",
      "1 1\n",
      "1 1\n",
      "1 -1\n",
      "1 -1\n",
      "0 -1\n",
      "1 1\n",
      "1 1\n",
      "0 -1\n",
      "1 1\n",
      "1 1\n",
      "1 -1\n",
      "1 1\n",
      "1 1\n",
      "0 -1\n",
      "1 -1\n",
      "1 1\n",
      "1 -1\n",
      "1 1\n",
      "1 -1\n",
      "0 1\n",
      "1 1\n",
      "0 1\n",
      "1 1\n",
      "1 -1\n",
      "1 -1\n",
      "0 -1\n",
      "1 -1\n",
      "0 1\n",
      "1 -1\n",
      "1 1\n",
      "1 1\n",
      "1 -1\n",
      "1 1\n",
      "1 1\n",
      "0 -1\n",
      "0 -1\n",
      "1 1\n",
      "1 1\n",
      "1 1\n",
      "1 1\n",
      "0 1\n",
      "0 -1\n",
      "1 -1\n",
      "1 1\n",
      "1 1\n",
      "1 1\n",
      "1 1\n",
      "1 1\n",
      "1 1\n",
      "1 1\n",
      "1 -1\n",
      "0 -1\n",
      "1 1\n",
      "0 1\n",
      "1 1\n",
      "1 1\n",
      "1 -1\n",
      "0 -1\n",
      "1 -1\n",
      "1 -1\n",
      "1 -1\n",
      "0 1\n",
      "1 1\n",
      "1 1\n",
      "1 1\n",
      "1 -1\n",
      "1 1\n",
      "1 -1\n",
      "0 1\n",
      "1 1\n",
      "1 -1\n",
      "1 -1\n",
      "1 1\n",
      "1 1\n",
      "0 -1\n",
      "1 -1\n",
      "0 1\n",
      "1 -1\n",
      "0 1\n",
      "1 1\n",
      "0 1\n",
      "1 1\n",
      "0 -1\n",
      "1 -1\n",
      "1 1\n",
      "1 1\n",
      "1 1\n",
      "1 1\n",
      "1 -1\n",
      "1 1\n",
      "1 1\n",
      "0 1\n",
      "1 1\n",
      "1 -1\n",
      "1 -1\n",
      "1 1\n",
      "1 1\n",
      "1 1\n",
      "1 -1\n",
      "1 -1\n",
      "1 1\n",
      "1 -1\n",
      "0 1\n",
      "1 -1\n",
      "1 1\n",
      "1 1\n",
      "1 1\n",
      "1 1\n",
      "1 1\n",
      "1 1\n",
      "0 -1\n",
      "1 -1\n",
      "1 1\n",
      "1 1\n",
      "1 -1\n",
      "0 -1\n",
      "1 1\n",
      "0 1\n",
      "1 -1\n",
      "1 1\n",
      "0 1\n",
      "1 1\n",
      "1 -1\n",
      "0 1\n",
      "1 -1\n",
      "1 -1\n",
      "1 1\n",
      "1 1\n",
      "1 -1\n",
      "1 -1\n",
      "1 -1\n",
      "1 -1\n",
      "1 1\n",
      "1 1\n",
      "1 -1\n",
      "1 1\n",
      "1 -1\n",
      "1 1\n",
      "1 1\n",
      "1 1\n",
      "1 -1\n",
      "1 1\n",
      "0 1\n",
      "0 -1\n",
      "1 1\n",
      "1 1\n",
      "1 -1\n",
      "1 -1\n",
      "1 -1\n",
      "1 -1\n",
      "0 -1\n",
      "0 1\n",
      "1 1\n",
      "0 -1\n",
      "1 1\n",
      "0 1\n",
      "1 1\n",
      "1 -1\n",
      "1 1\n",
      "1 -1\n",
      "1 -1\n",
      "1 -1\n",
      "0 -1\n",
      "1 1\n",
      "1 1\n",
      "1 1\n",
      "1 1\n",
      "1 -1\n",
      "1 -1\n",
      "1 1\n",
      "1 1\n",
      "1 -1\n",
      "1 -1\n",
      "1 1\n",
      "0 -1\n",
      "1 1\n",
      "0 -1\n",
      "1 -1\n",
      "1 -1\n",
      "1 1\n",
      "1 1\n",
      "0 1\n",
      "1 -1\n",
      "1 1\n",
      "1 1\n",
      "0 -1\n",
      "1 -1\n",
      "1 1\n",
      "0 1\n",
      "1 -1\n",
      "0 1\n",
      "1 1\n",
      "0 -1\n",
      "0 1\n",
      "1 1\n",
      "1 1\n",
      "1 1\n",
      "1 -1\n",
      "0 -1\n",
      "1 -1\n",
      "1 -1\n",
      "1 -1\n",
      "1 -1\n",
      "1 -1\n",
      "1 1\n",
      "1 1\n",
      "1 -1\n",
      "1 -1\n",
      "1 -1\n",
      "0 -1\n",
      "1 -1\n",
      "0 1\n",
      "1 1\n",
      "0 -1\n",
      "1 1\n",
      "1 -1\n",
      "1 1\n",
      "0 -1\n",
      "1 -1\n",
      "0 1\n",
      "0 1\n",
      "1 -1\n",
      "1 1\n",
      "1 -1\n",
      "1 -1\n",
      "1 1\n",
      "1 -1\n",
      "1 1\n",
      "1 -1\n",
      "1 1\n",
      "1 -1\n",
      "1 1\n",
      "1 1\n",
      "0 -1\n",
      "1 -1\n",
      "1 1\n",
      "0 -1\n",
      "1 1\n",
      "1 -1\n",
      "1 1\n",
      "1 1\n",
      "1 -1\n",
      "1 1\n",
      "1 1\n",
      "1 1\n",
      "1 1\n",
      "1 -1\n",
      "1 -1\n",
      "1 1\n",
      "1 1\n",
      "1 -1\n",
      "1 -1\n",
      "1 -1\n",
      "1 1\n",
      "1 -1\n",
      "1 -1\n",
      "1 1\n",
      "1 -1\n",
      "0 1\n",
      "1 1\n",
      "1 -1\n",
      "0 1\n",
      "1 -1\n",
      "1 1\n",
      "1 1\n",
      "1 1\n",
      "1 1\n",
      "1 1\n",
      "1 -1\n",
      "1 -1\n",
      "1 -1\n",
      "1 1\n",
      "1 1\n",
      "1 1\n",
      "1 -1\n",
      "0 1\n",
      "1 1\n",
      "1 1\n",
      "1 -1\n",
      "0\n",
      "0\n",
      "0\n",
      "0\n",
      "1\n",
      "1\n",
      "1\n",
      "1\n",
      "1\n",
      "0\n",
      "0\n",
      "0\n",
      "1\n",
      "0\n",
      "1\n",
      "1\n",
      "0\n",
      "0\n",
      "0\n",
      "1\n",
      "1\n",
      "1\n",
      "0\n",
      "1\n",
      "1\n",
      "1\n",
      "0\n",
      "0\n",
      "1\n",
      "1\n"
     ]
    }
   ],
   "source": [
    "for tube in train_tubes:\n",
    "    tube.assign_label(weak_train)\n",
    "    print(tube.pred_vehicle, tube.true_vehicle)\n",
    "    \n",
    "for tube in val_tubes:\n",
    "    tube.true_vehicle = 0 if tube.true_vehicle == -1 else 1\n",
    "    print(tube.true_vehicle)"
   ]
  },
  {
   "cell_type": "markdown",
   "metadata": {},
   "source": [
    "## 5. Run Classifier\n",
    "\n",
    "Here, we demonstrate hyperparameter tuning with our final 3D-CNN classifier built on our weakly-labeled tubes. This classifier assigns a given tube either a 1 (for car) or a 0 (for truck). We have conducted several experiments that involve varying the volume of weakly-labeled data passed into the classifier and monitor relative performance.\n",
    "\n",
    "### Experiments:\n",
    "1. Learning rate modulation for each of the following weak volume levels.\n",
    "2. Weak volume: 0\n",
    "2. Weak volume: 100\n",
    "3. Weak volume: 200\n",
    "4. Weak volume: 300"
   ]
  },
  {
   "cell_type": "code",
   "execution_count": 10,
   "metadata": {},
   "outputs": [],
   "source": [
    "num_frames_per_tube = 30\n",
    "code_size = 512\n",
    "\n",
    "def run_classifier(train_primitive_matrix, train_tubes, val_primitive_matrix, val_tubes, \\\n",
    "                   test_primitive_matrix, test_tubes, lr_arr, weak_volume):\n",
    "    if weak_volume != 0:\n",
    "        train_primitive_matrix_trunc = train_primitive_matrix[0:num_frames_per_tube*weak_volume, :]\n",
    "        train_tubes_trunc = train_tubes[0:weak_volume]\n",
    "\n",
    "        # combine data\n",
    "        merged_primitive_matrix = torch.cat((train_primitive_matrix_trunc, val_primitive_matrix), 0)\n",
    "        merged_tubes = train_tubes_trunc + val_tubes\n",
    "    else:\n",
    "        merged_primitive_matrix = val_primitive_matrix\n",
    "        merged_tubes = val_tubes\n",
    "        \n",
    "    # shuffle and perform a second standard split (80 train: 20 val)\n",
    "    num_train = 4 * len(merged_tubes)//5\n",
    "    train_inds = random.sample(range(0, len(merged_tubes)), num_train)\n",
    "    val_inds = list(set(np.arange(0, len(merged_tubes))) - set(train_inds))\n",
    "\n",
    "    merged_primitive_matrix = merged_primitive_matrix.view(-1, num_frames_per_tube, code_size)\n",
    "    \n",
    "    train_x = merged_primitive_matrix[train_inds, :, :]\n",
    "    train_x = train_x.view(-1, code_size)\n",
    "    train_y = [merged_tubes[i] for i in train_inds]\n",
    "\n",
    "    val_x = merged_primitive_matrix[val_inds, :, :]\n",
    "    val_x = val_x.view(-1, code_size)\n",
    "    val_y = [merged_tubes[i] for i in val_inds]\n",
    "    \n",
    "    # run classifier\n",
    "    return tune(train_x, train_y, val_x, val_y, test_primitive_matrix, test_tubes, lr_arr, weak_volume)"
   ]
  },
  {
   "cell_type": "code",
   "execution_count": 18,
   "metadata": {
    "scrolled": true
   },
   "outputs": [
    {
     "name": "stdout",
     "output_type": "stream",
     "text": [
      "Using device: cuda\n",
      "\n",
      "Weak volume level: 0\n",
      "24 examples in train set\n",
      "6 examples in validation set\n",
      "70 examples in test set\n",
      "Learning Rate = 0.00001, loss = 0.39747, valacc = 0.500\n",
      "Learning Rate = 0.00010, loss = 0.31488, valacc = 0.667\n",
      "Learning Rate = 0.00100, loss = 0.81326, valacc = 0.667\n",
      "Learning Rate = 0.01000, loss = 0.81326, valacc = 0.333\n",
      "\n",
      "Weak volume level: 100\n",
      "104 examples in train set\n",
      "26 examples in validation set\n",
      "70 examples in test set\n",
      "Learning Rate = 0.00001, loss = 0.58144, valacc = 0.769\n",
      "Learning Rate = 0.00010, loss = 0.31705, valacc = 0.808\n",
      "Learning Rate = 0.00100, loss = 0.63057, valacc = 0.769\n",
      "Learning Rate = 0.01000, loss = 0.63057, valacc = 0.769\n",
      "\n",
      "Weak volume level: 200\n",
      "184 examples in train set\n",
      "46 examples in validation set\n",
      "70 examples in test set\n",
      "Learning Rate = 0.00001, loss = 0.56340, valacc = 0.739\n",
      "Learning Rate = 0.00010, loss = 0.68820, valacc = 0.739\n",
      "Learning Rate = 0.00100, loss = 0.58112, valacc = 0.739\n",
      "Learning Rate = 0.01000, loss = 0.65255, valacc = 0.739\n",
      "\n",
      "Weak volume level: 300\n",
      "264 examples in train set\n",
      "66 examples in validation set\n",
      "70 examples in test set\n",
      "Learning Rate = 0.00001, loss = 0.56301, valacc = 0.712\n",
      "Learning Rate = 0.00010, loss = 0.43827, valacc = 0.712\n",
      "Learning Rate = 0.00100, loss = 0.68826, valacc = 0.712\n",
      "Learning Rate = 0.01000, loss = 0.56326, valacc = 0.712\n"
     ]
    }
   ],
   "source": [
    "# define hyperparameters\n",
    "lr_arr = [1e-5, 1e-4, 1e-3, 1e-2]\n",
    "weak_increment = unlabeled_vehicles.shape[0] // 3\n",
    "weak_volume_arr = [0, weak_increment, 2*weak_increment, 3*weak_increment] # 0, 100, 200, 300\n",
    "\n",
    "weak_volume_results = {}\n",
    "\n",
    "for weak_volume in weak_volume_arr:\n",
    "    print('\\nWeak volume level:', weak_volume)\n",
    "    lr_metrics = run_classifier(train_primitive_matrix, train_tubes, \\\n",
    "                               val_primitive_matrix, val_tubes, test_primitive_matrix, test_tubes, lr_arr, weak_volume)\n",
    "    weak_volume_results[weak_volume] = lr_metrics"
   ]
  },
  {
   "cell_type": "markdown",
   "metadata": {},
   "source": [
    "## 6. Visualize Results\n",
    "\n",
    "Above, we created a cohort of models by interating over various weak volume levels and learning rates. For each model, we saved the loss history (our primary metric), the predicted scores, the true labels (derived from weak supervision), and the accuracy. Here, we will plot these values."
   ]
  },
  {
   "cell_type": "markdown",
   "metadata": {},
   "source": [
    "### Prepare Test Dataset"
   ]
  },
  {
   "cell_type": "code",
   "execution_count": 57,
   "metadata": {},
   "outputs": [
    {
     "name": "stdout",
     "output_type": "stream",
     "text": [
      "[0, 100, 200, 300]\n",
      "[1e-05, 0.0001, 0.001, 0.01]\n",
      "For the model with a weak volume of 0 and learning rate of 1e-05\n",
      "0.3\n",
      "For the model with a weak volume of 0 and learning rate of 0.0001\n",
      "0.35714285714285715\n",
      "For the model with a weak volume of 0 and learning rate of 0.001\n",
      "0.5571428571428572\n",
      "For the model with a weak volume of 0 and learning rate of 0.01\n",
      "0.0\n",
      "For the model with a weak volume of 100 and learning rate of 1e-05\n",
      "0.5571428571428572\n",
      "For the model with a weak volume of 100 and learning rate of 0.0001\n",
      "0.5285714285714286\n",
      "For the model with a weak volume of 100 and learning rate of 0.001\n",
      "0.5571428571428572\n",
      "For the model with a weak volume of 100 and learning rate of 0.01\n",
      "0.5571428571428572\n",
      "For the model with a weak volume of 200 and learning rate of 1e-05\n",
      "0.5571428571428572\n",
      "For the model with a weak volume of 200 and learning rate of 0.0001\n",
      "0.5571428571428572\n",
      "For the model with a weak volume of 200 and learning rate of 0.001\n",
      "0.5571428571428572\n",
      "For the model with a weak volume of 200 and learning rate of 0.01\n",
      "0.5571428571428572\n",
      "For the model with a weak volume of 300 and learning rate of 1e-05\n",
      "0.5571428571428572\n",
      "For the model with a weak volume of 300 and learning rate of 0.0001\n",
      "0.5571428571428572\n",
      "For the model with a weak volume of 300 and learning rate of 0.001\n",
      "0.5571428571428572\n",
      "For the model with a weak volume of 300 and learning rate of 0.01\n",
      "0.5571428571428572\n",
      "[[0.3        0.35714286 0.55714286 0.        ]\n",
      " [0.55714286 0.52857143 0.55714286 0.55714286]\n",
      " [0.55714286 0.55714286 0.55714286 0.55714286]\n",
      " [0.55714286 0.55714286 0.55714286 0.55714286]]\n"
     ]
    },
    {
     "data": {
      "image/png": "[encoded data removed]",
      "text/plain": [
       "<matplotlib.figure.Figure at 0x7fd3271b4f98>"
      ]
     },
     "metadata": {},
     "output_type": "display_data"
    },
    {
     "data": {
      "text/plain": [
       "<matplotlib.colorbar.Colorbar at 0x7fd327d8b438>"
      ]
     },
     "execution_count": 57,
     "metadata": {},
     "output_type": "execute_result"
    },
    {
     "data": {
      "image/png": "[encoded data removed]",
      "text/plain": [
       "<matplotlib.figure.Figure at 0x7fd327e6c0f0>"
      ]
     },
     "metadata": {},
     "output_type": "display_data"
    }
   ],
   "source": [
    "# test_primitive_matrix, test_tubes = tube_loader(test_vehicles, label = True)\n",
    "# test_ground = [label for tube in test_tubes for label in tube.tube_true_labels]\n",
    "\n",
    "toPlot = np.zeros((len(weak_volume_arr), len(lr_arr)))\n",
    "\n",
    "print(weak_volume_arr)\n",
    "print(lr_arr)\n",
    "\n",
    "i = 0\n",
    "for weak_volume in weak_volume_arr:\n",
    "    rateSeries = np.zeros((len(lr_arr)))\n",
    "    j = 0\n",
    "    for lr in lr_arr:\n",
    "        loss_hist, scores, y, val_acc, test_acc = weak_volume_results[weak_volume][lr]\n",
    "        # _, _, _, _, test_acc = weak_volume_results[weak_volume][lr]\n",
    "        print(\"For the model with a weak volume of\", weak_volume, \"and learning rate of\", lr)\n",
    "        print(test_acc)\n",
    "        toPlot[i,j] = test_acc\n",
    "        rateSeries[j] = test_acc\n",
    "        j += 1\n",
    "    i += 1\n",
    "    plt.plot(rateSeries)\n",
    "\n",
    "print(toPlot)\n",
    "    \n",
    "plt.show()\n",
    "plt.imshow(toPlot)\n",
    "plt.colorbar()"
   ]
  },
  {
   "cell_type": "markdown",
   "metadata": {},
   "source": [
    "### Comparison"
   ]
  },
  {
   "cell_type": "markdown",
   "metadata": {},
   "source": [
    "### Loss Curves"
   ]
  },
  {
   "cell_type": "code",
   "execution_count": 51,
   "metadata": {
    "scrolled": false
   },
   "outputs": [
    {
     "data": {
      "image/png": "[encoded data removed]",
      "text/plain": [
       "<matplotlib.figure.Figure at 0x7fd3271870f0>"
      ]
     },
     "metadata": {},
     "output_type": "display_data"
    },
    {
     "data": {
      "text/plain": [
       "<matplotlib.figure.Figure at 0x7fd333cddc88>"
      ]
     },
     "metadata": {},
     "output_type": "display_data"
    }
   ],
   "source": [
    "for weak_volume in [100]:\n",
    "    for lr in lr_arr:\n",
    "        loss_hist, _, _, acc, _ = weak_volume_results[weak_volume][lr]\n",
    "        \n",
    "#         print(loss_hist)\n",
    "#         print(\"ACCURACY\", acc)\n",
    "        # print(loss_hist)\n",
    "        plt.plot(loss_hist)\n",
    "\n",
    "    plt.axis([0, 100, 0, 1])\n",
    "    plt.figure(figsize = (50, 25))\n",
    "    plt.show()"
   ]
  },
  {
   "cell_type": "markdown",
   "metadata": {},
   "source": [
    "### ROC Curves"
   ]
  },
  {
   "cell_type": "code",
   "execution_count": 32,
   "metadata": {},
   "outputs": [
    {
     "name": "stdout",
     "output_type": "stream",
     "text": [
      "[0.87096864, 0.6176559, 0.34729838, 0.5018725, 0.6844038, 0.7385999] [1, 0, 1, 1, 1, 0]\n",
      "0.375\n",
      "[0.7330788, 0.29659745, 0.5864158, 0.28244418, 0.5935864, 0.8287435] [0, 1, 0, 1, 1, 1]\n",
      "0.375\n",
      "[1.595191e-07, 2.4092927e-08, 2.7841827e-07, 2.6350605e-08, 2.1550264e-08, 4.2914095e-08] [0, 0, 1, 1, 1, 1]\n",
      "0.5\n",
      "[1.0, 1.0, 1.0, 1.0, 1.0, 1.0] [0, 1, 1, 0, 1, 1]\n",
      "0.5\n",
      "[0.1737871, 0.36120906, 0.307027, 0.2382309, 0.36108473, 0.28178218, 0.15764435, 0.1469292, 0.15729278, 0.16528435, 0.1797693, 0.3924589, 0.49897465, 0.41346413, 0.11688716, 0.292917, 0.20760703, 0.0911169, 0.17824121, 0.1888052, 0.099102825, 0.17272954, 0.1844682, 0.23462433, 0.13495278, 0.21096237] [1, 0, 1, 1, 1, 1, 1, 1, 1, 1, 1, 0, 0, 1, 1, 1, 1, 1, 1, 1, 1, 0, 1, 0, 0, 1]\n",
      "0.31666666666666665\n",
      "[0.043887176, 0.33729124, 0.0890275, 0.017564125, 0.12581491, 0.041383952, 0.16513954, 0.49523878, 0.14836797, 0.17060111, 0.27948844, 0.14349967, 0.7476489, 0.17258798, 0.15508166, 0.3059803, 0.014413699, 0.25091907, 0.21217582, 0.04220713, 0.1456905, 0.026709704, 0.10877581, 0.014491168, 0.069613665, 0.073066354] [1, 1, 1, 1, 1, 0, 0, 1, 1, 1, 1, 0, 0, 1, 1, 1, 1, 1, 1, 1, 0, 1, 0, 1, 1, 1]\n",
      "0.4583333333333333\n",
      "[2.9054234e-20, 2.5190824e-19, 4.151742e-20, 1.2216063e-19, 2.1077199e-20, 1.6897037e-19, 1.462049e-19, 2.2152445e-18, 1.1624321e-19, 2.9852033e-19, 2.0841826e-19, 1.7084217e-19, 3.3207318e-20, 1.3477968e-19, 2.8459376e-19, 1.4336718e-19, 1.5610811e-20, 5.987093e-19, 2.785999e-19, 3.7309384e-19, 4.2502486e-19, 3.8114391e-19, 2.8108293e-19, 1.9049228e-19, 7.104233e-20, 1.740656e-19] [1, 1, 1, 1, 0, 1, 0, 1, 1, 1, 1, 0, 1, 0, 0, 0, 1, 1, 1, 1, 1, 1, 1, 1, 1, 1]\n",
      "0.6333333333333333\n",
      "[0.0, 0.0, 0.0, 0.0, 0.0, 0.0, 0.0, 0.0, 0.0, 0.0, 0.0, 0.0, 0.0, 0.0, 0.0, 0.0, 0.0, 0.0, 0.0, 0.0, 0.0, 0.0, 0.0, 0.0, 0.0, 0.0] [1, 1, 1, 1, 0, 1, 1, 1, 1, 1, 1, 0, 1, 0, 0, 0, 1, 1, 1, 1, 1, 1, 1, 1, 1, 0]\n",
      "0.5\n",
      "[0.017984679, 0.038499344, 0.014195561, 0.015958034, 0.01119701, 0.01797139, 0.023914766, 0.021181397, 0.0148495445, 0.015224339, 0.013718997, 0.045759697, 0.029905686, 0.013533505, 0.017278334, 0.018028192, 0.017632045, 0.009750292, 0.018634696, 0.022588253, 0.05270302, 0.021663425, 0.0235108, 0.024060225, 0.026827943, 0.06428993, 0.016115217, 0.058204617, 0.024004793, 0.014613637, 0.04237672, 0.024125975, 0.023844404, 0.017542006, 0.016885221, 0.02981799, 0.022353722, 0.034545366, 0.015780324, 0.020464683, 0.03548014, 0.024994694, 0.023114026, 0.036345813, 0.0092081865, 0.017898148] [0, 1, 1, 1, 0, 1, 1, 1, 0, 1, 0, 0, 1, 1, 1, 1, 1, 1, 1, 1, 0, 0, 1, 1, 1, 1, 1, 0, 1, 1, 1, 1, 0, 1, 1, 1, 1, 1, 0, 1, 1, 0, 1, 1, 1, 0]\n",
      "0.5024509803921569\n",
      "[0.0002218849, 0.00044988393, 0.00020555199, 0.00024676987, 0.00022401936, 0.00018749989, 0.00018348743, 0.00019814754, 0.0002244414, 0.00024658383, 0.00010417745, 0.00015297957, 0.00019249436, 0.0001350753, 0.00021657853, 0.00014164942, 0.0003132725, 0.00022378389, 0.00018521637, 0.00023456998, 0.00020258673, 0.00023107156, 0.0001631629, 0.00018586937, 0.00026852125, 0.00012175475, 0.0003593647, 0.00032423297, 0.0001553361, 0.0002468765, 0.00010415381, 0.00012751551, 0.00023794768, 0.00012375256, 0.00019870567, 0.00038464007, 0.00018713444, 0.00027252044, 0.00026384363, 0.00027968278, 0.00037280595, 0.00016384483, 0.0001589522, 0.00023604507, 0.00020248358, 0.0005938089] [1, 1, 0, 0, 1, 1, 1, 1, 1, 1, 1, 1, 0, 1, 0, 1, 1, 0, 1, 1, 1, 0, 1, 1, 1, 1, 1, 0, 1, 1, 0, 0, 0, 1, 1, 1, 1, 1, 1, 1, 0, 1, 1, 1, 1, 0]\n",
      "0.4019607843137255\n",
      "[1.1928335e-28, 1.1405132e-28, 9.862114e-29, 1.0119122e-28, 6.5648747e-29, 4.1525626e-29, 4.7364813e-29, 5.5628296e-29, 1.5601222e-28, 8.877109e-29, 2.821321e-29, 6.8467315e-29, 6.256176e-29, 3.764085e-29, 2.184379e-27, 3.066456e-28, 3.504607e-29, 9.365801e-29, 1.6142507e-29, 2.978295e-29, 1.3077744e-28, 8.095788e-28, 1.4434388e-28, 1.8150833e-28, 3.5750926e-29, 8.149797e-28, 1.0153613e-28, 3.323988e-28, 1.5876192e-28, 3.721027e-29, 4.963054e-28, 8.4565845e-29, 1.1467868e-28, 9.1390756e-29, 7.999023e-29, 1.1036873e-28, 1.1487308e-28, 9.9067585e-29, 8.507513e-29, 8.953152e-29, 1.6338273e-29, 1.8241973e-28, 1.1140337e-28, 3.5003045e-29, 4.5958713e-29, 3.5993019e-28] [1, 0, 1, 1, 1, 1, 1, 1, 1, 1, 0, 1, 1, 0, 1, 1, 1, 1, 1, 1, 1, 1, 1, 0, 1, 1, 0, 1, 0, 1, 1, 1, 1, 1, 0, 0, 0, 0, 1, 1, 1, 1, 1, 0, 0, 1]\n",
      "0.5490196078431373\n",
      "[0.0, 0.0, 0.0, 0.0, 0.0, 0.0, 0.0, 0.0, 0.0, 0.0, 0.0, 0.0, 0.0, 0.0, 0.0, 0.0, 0.0, 0.0, 0.0, 0.0, 0.0, 0.0, 0.0, 0.0, 0.0, 0.0, 0.0, 0.0, 0.0, 0.0, 0.0, 0.0, 0.0, 0.0, 0.0, 0.0, 0.0, 0.0, 0.0, 0.0, 0.0, 0.0, 0.0, 0.0, 0.0, 0.0] [1, 0, 0, 1, 0, 0, 0, 0, 1, 1, 1, 1, 1, 0, 1, 1, 0, 1, 0, 1, 1, 1, 1, 1, 1, 1, 1, 1, 1, 1, 1, 1, 1, 1, 1, 1, 1, 1, 0, 1, 1, 0, 1, 1, 0, 1]\n",
      "0.5\n",
      "[0.004505672, 0.003554484, 0.0041568833, 0.007676147, 0.008661226, 0.009640934, 0.006261257, 0.0036994833, 0.0019668897, 0.0042295805, 0.0070154155, 0.006332662, 0.012399576, 0.0037537373, 0.0102016805, 0.009093252, 0.010537365, 0.0063998085, 0.0032980838, 0.0042065647, 0.0060282, 0.0020602106, 0.012065397, 0.005165557, 0.0041886, 0.0034469028, 0.005945921, 0.007971885, 0.010807304, 0.0060188756, 0.005043059, 0.0075107757, 0.0060383775, 0.0091388235, 0.018823577, 0.006395434, 0.008598223, 0.014467421, 0.013909467, 0.0083559, 0.0074210116, 0.0056853327, 0.0071548675, 0.007430447, 0.0039470377, 0.004397284, 0.004014863, 0.0044009825, 0.0053873444, 0.0052269595, 0.008386027, 0.0074379067, 0.0028021112, 0.018195901, 0.012543421, 0.005084676, 0.00416254, 0.009577954, 0.011141104, 0.0069146417, 0.006598496, 0.0049961978, 0.002809015, 0.0034179646, 0.02099977, 0.011052172] [1, 1, 0, 1, 1, 0, 0, 1, 1, 0, 0, 1, 0, 0, 1, 1, 1, 1, 1, 0, 0, 1, 1, 1, 1, 1, 1, 1, 1, 1, 1, 1, 1, 1, 1, 1, 1, 1, 1, 1, 1, 0, 0, 1, 1, 1, 1, 1, 1, 0, 0, 1, 0, 0, 1, 0, 1, 1, 0, 0, 0, 1, 1, 1, 1, 1]\n",
      "0.509518477043673\n",
      "[1.9644975e-05, 1.1798025e-05, 5.225579e-06, 9.099094e-06, 9.471499e-06, 9.203857e-06, 6.8461973e-06, 1.36126255e-05, 3.6181543e-06, 3.565404e-06, 2.7322565e-06, 2.1273258e-05, 3.715213e-06, 2.6900072e-06, 1.2315744e-05, 1.1685044e-05, 1.0374468e-05, 7.150713e-06, 7.2261064e-06, 1.8031846e-05, 9.253301e-06, 8.436313e-06, 1.4193962e-05, 5.6067825e-06, 7.996994e-06, 8.15601e-06, 1.0591459e-05, 9.536938e-06, 2.2109134e-05, 1.2149601e-05, 9.32303e-06, 1.4146043e-05, 1.12735315e-05, 1.0579042e-05, 1.0739941e-05, 6.317303e-06, 1.544077e-05, 8.868638e-06, 4.0079096e-05, 1.3571198e-05, 8.481214e-06, 5.2099795e-06, 1.5400389e-06, 5.779312e-06, 4.796347e-06, 7.6236593e-06, 1.0904451e-05, 5.389904e-06, 5.269729e-06, 8.892793e-06, 7.062365e-06, 9.185495e-06, 4.375856e-06, 1.137929e-05, 6.9799667e-06, 5.909354e-06, 3.8244048e-06, 4.21954e-06, 2.995292e-06, 1.6612596e-05, 1.4830913e-05, 3.7294558e-05, 1.4524475e-05, 7.668738e-06, 8.230803e-06, 1.0967903e-05] [0, 0, 1, 1, 1, 1, 1, 1, 1, 1, 0, 1, 1, 1, 1, 1, 1, 0, 1, 0, 1, 1, 0, 1, 1, 1, 0, 0, 1, 1, 1, 1, 1, 0, 1, 1, 0, 0, 0, 1, 0, 1, 1, 1, 0, 0, 1, 1, 1, 1, 1, 1, 1, 0, 1, 1, 0, 0, 1, 1, 1, 1, 0, 1, 1, 1]\n",
      "0.3997760358342666\n",
      "[7.143365e-20, 2.0632818e-20, 4.871575e-20, 2.8665618e-20, 3.683503e-21, 4.9611056e-20, 1.25775155e-20, 3.3555845e-20, 2.2429201e-20, 1.8538156e-20, 8.948076e-19, 6.6192214e-20, 2.8802083e-20, 4.815423e-21, 6.442445e-21, 7.134215e-20, 3.036761e-20, 1.9398421e-20, 5.681904e-21, 2.1025403e-20, 4.570524e-20, 2.9313853e-20, 4.294855e-20, 1.2739083e-20, 5.2539427e-20, 6.559144e-21, 1.2223187e-20, 1.1912787e-20, 1.7731255e-20, 4.628088e-20, 3.4452105e-21, 7.596592e-20, 4.674181e-21, 8.936537e-21, 9.190265e-20, 1.290701e-20, 6.809749e-20, 1.651538e-19, 3.270109e-20, 1.3188114e-20, 1.0652472e-20, 2.6973886e-20, 1.6951453e-20, 4.9273235e-21, 6.9078635e-20, 6.967114e-21, 1.898183e-20, 4.5999795e-20, 9.5125363e-20, 3.352055e-19, 9.924122e-21, 2.4134553e-19, 1.557721e-19, 1.3006156e-20, 2.1388627e-20, 2.0436437e-20, 5.1274603e-20, 1.4097982e-19, 1.8945225e-20, 1.1012148e-20, 8.295775e-21, 2.760239e-20, 2.8773642e-20, 1.7304791e-20, 2.523929e-20, 4.4622985e-20] [1, 1, 1, 0, 1, 1, 0, 1, 1, 1, 1, 1, 1, 1, 1, 1, 0, 1, 1, 1, 1, 0, 1, 1, 1, 1, 0, 1, 1, 1, 0, 0, 1, 0, 1, 0, 1, 1, 1, 0, 1, 1, 1, 0, 0, 1, 1, 1, 0, 1, 0, 1, 1, 0, 1, 0, 0, 1, 0, 1, 1, 1, 1, 1, 1, 0]\n",
      "0.5811870100783875\n",
      "[0.0, 0.0, 0.0, 0.0, 0.0, 0.0, 0.0, 0.0, 0.0, 0.0, 0.0, 0.0, 0.0, 0.0, 0.0, 0.0, 0.0, 0.0, 0.0, 0.0, 0.0, 0.0, 0.0, 0.0, 0.0, 0.0, 0.0, 0.0, 0.0, 0.0, 0.0, 0.0, 0.0, 0.0, 0.0, 0.0, 0.0, 0.0, 0.0, 0.0, 0.0, 0.0, 0.0, 0.0, 0.0, 0.0, 0.0, 0.0, 0.0, 0.0, 0.0, 0.0, 0.0, 0.0, 0.0, 0.0, 0.0, 0.0, 0.0, 0.0, 0.0, 0.0, 0.0, 0.0, 0.0, 0.0] [1, 1, 0, 1, 1, 1, 0, 1, 1, 0, 1, 1, 1, 1, 0, 1, 1, 0, 1, 1, 1, 0, 1, 1, 1, 1, 1, 1, 0, 0, 0, 0, 1, 1, 1, 1, 0, 1, 1, 1, 1, 1, 1, 1, 0, 0, 1, 1, 1, 1, 1, 1, 1, 1, 0, 0, 1, 1, 1, 0, 1, 0, 1, 1, 0, 0]\n",
      "0.5\n"
     ]
    },
    {
     "data": {
      "image/png": "[encoded data removed]",
      "text/plain": [
       "<matplotlib.figure.Figure at 0x7fd327f612b0>"
      ]
     },
     "metadata": {},
     "output_type": "display_data"
    },
    {
     "data": {
      "image/png": "[encoded data removed]",
      "text/plain": [
       "<matplotlib.figure.Figure at 0x7fd327f3f8d0>"
      ]
     },
     "metadata": {},
     "output_type": "display_data"
    },
    {
     "data": {
      "image/png": "[encoded data removed]",
      "text/plain": [
       "<matplotlib.figure.Figure at 0x7fd327f369b0>"
      ]
     },
     "metadata": {},
     "output_type": "display_data"
    },
    {
     "data": {
      "image/png": "[encoded data removed]",
      "text/plain": [
       "<matplotlib.figure.Figure at 0x7fd327ef2080>"
      ]
     },
     "metadata": {},
     "output_type": "display_data"
    },
    {
     "data": {
      "image/png": "[encoded data removed]",
      "text/plain": [
       "<matplotlib.figure.Figure at 0x7fd327eaaa20>"
      ]
     },
     "metadata": {},
     "output_type": "display_data"
    },
    {
     "data": {
      "image/png": "[encoded data removed]",
      "text/plain": [
       "<matplotlib.figure.Figure at 0x7fd327eb3b70>"
      ]
     },
     "metadata": {},
     "output_type": "display_data"
    },
    {
     "data": {
      "image/png": "[encoded data removed]",
      "text/plain": [
       "<matplotlib.figure.Figure at 0x7fd3338cb8d0>"
      ]
     },
     "metadata": {},
     "output_type": "display_data"
    },
    {
     "data": {
      "image/png": "[encoded data removed]",
      "text/plain": [
       "<matplotlib.figure.Figure at 0x7fd3338f6a20>"
      ]
     },
     "metadata": {},
     "output_type": "display_data"
    },
    {
     "data": {
      "image/png": "[encoded data removed]",
      "text/plain": [
       "<matplotlib.figure.Figure at 0x7fd333a4db38>"
      ]
     },
     "metadata": {},
     "output_type": "display_data"
    },
    {
     "data": {
      "image/png": "[encoded data removed]",
      "text/plain": [
       "<matplotlib.figure.Figure at 0x7fd333cc7208>"
      ]
     },
     "metadata": {},
     "output_type": "display_data"
    },
    {
     "data": {
      "image/png": "[encoded data removed]",
      "text/plain": [
       "<matplotlib.figure.Figure at 0x7fd333cda748>"
      ]
     },
     "metadata": {},
     "output_type": "display_data"
    },
    {
     "data": {
      "image/png": "[encoded data removed]",
      "text/plain": [
       "<matplotlib.figure.Figure at 0x7fd333b6c240>"
      ]
     },
     "metadata": {},
     "output_type": "display_data"
    },
    {
     "data": {
      "image/png": "[encoded data removed]",
      "text/plain": [
       "<matplotlib.figure.Figure at 0x7fd333a50080>"
      ]
     },
     "metadata": {},
     "output_type": "display_data"
    },
    {
     "data": {
      "image/png": "[encoded data removed]",
      "text/plain": [
       "<matplotlib.figure.Figure at 0x7fd33391d860>"
      ]
     },
     "metadata": {},
     "output_type": "display_data"
    },
    {
     "data": {
      "image/png": "[encoded data removed]",
      "text/plain": [
       "<matplotlib.figure.Figure at 0x7fd327e6d780>"
      ]
     },
     "metadata": {},
     "output_type": "display_data"
    },
    {
     "data": {
      "image/png": "[encoded data removed]",
      "text/plain": [
       "<matplotlib.figure.Figure at 0x7fd327e28828>"
      ]
     },
     "metadata": {},
     "output_type": "display_data"
    }
   ],
   "source": [
    "for weak_volume in weak_volume_arr:\n",
    "    for lr in lr_arr:\n",
    "        _, scores, y, _, _ = weak_volume_results[weak_volume][lr]\n",
    "        print(scores, y)\n",
    "        fpr, tpr, _ = metrics.roc_curve(y, scores)\n",
    "        roc_auc = metrics.auc(fpr, tpr)\n",
    "        print(roc_auc)\n",
    "        plt.figure()\n",
    "        plt.plot(fpr, tpr, color='blue')"
   ]
  },
  {
   "cell_type": "code",
   "execution_count": null,
   "metadata": {},
   "outputs": [],
   "source": [
    "def compute_saliency_maps(X, y, model):\n",
    "    \"\"\"\n",
    "    Compute a class saliency map using the model for images X and labels y.\n",
    "\n",
    "    Input:\n",
    "    - X: Input images; Tensor of shape (N, 3, H, W)\n",
    "    - y: Labels for X; LongTensor of shape (N,)\n",
    "    - model: A pretrained CNN that will be used to compute the saliency map.\n",
    "\n",
    "    Returns:\n",
    "    - saliency: A Tensor of shape (N, H, W) giving the saliency maps for the input\n",
    "    images.\n",
    "    \"\"\"\n",
    "    # Make sure the model is in \"test\" mode\n",
    "    model.eval()\n",
    "    \n",
    "    # Make input tensor require gradient\n",
    "    X.requires_grad_()\n",
    "    \n",
    "    saliency = None\n",
    "    ##############################################################################\n",
    "    # TODO: Implement this function. Perform a forward and backward pass through #\n",
    "    # the model to compute the gradient of the correct class score with respect  #\n",
    "    # to each input image. You first want to compute the loss over the correct   #\n",
    "    # scores (we'll combine losses across a batch by summing), and then compute  #\n",
    "    # the gradients with a backward pass.                                        #\n",
    "    ##############################################################################\n",
    "    scores = model.forward(X)\n",
    "    loss = torch.sum(scores.gather(1, y.view(-1, 1)).squeeze())\n",
    "    loss.backward()\n",
    "    # saliency = X.grad.gather(1, X.grad.argmax(1)[:,np.newaxis,:,:]).squeeze()\n",
    "    saliency = torch.max(torch.abs(X.grad), 1)[0]\n",
    "    pass\n",
    "    ##############################################################################\n",
    "    #                             END OF YOUR CODE                               #\n",
    "    ##############################################################################\n",
    "    return saliency"
   ]
  },
  {
   "cell_type": "code",
   "execution_count": null,
   "metadata": {},
   "outputs": [],
   "source": [
    "def show_saliency_maps(X, y):\n",
    "    # Convert X and y from numpy arrays to Torch Tensors\n",
    "    X_tensor = torch.cat([preprocess(Image.fromarray(x)) for x in X], dim=0)\n",
    "    y_tensor = torch.LongTensor(y)\n",
    "\n",
    "    # Compute saliency maps for images in X\n",
    "    saliency = compute_saliency_maps(X_tensor, y_tensor, model)\n",
    "\n",
    "    # Convert the saliency map from Torch Tensor to numpy array and show images\n",
    "    # and saliency maps together.\n",
    "    saliency = saliency.numpy()\n",
    "    N = X.shape[0]\n",
    "    for i in range(N):\n",
    "        plt.subplot(2, N, i + 1)\n",
    "        plt.imshow(X[i])\n",
    "        plt.axis('off')\n",
    "        plt.title(class_names[y[i]])\n",
    "        plt.subplot(2, N, N + i + 1)\n",
    "        plt.imshow(saliency[i], cmap=plt.cm.hot)\n",
    "        plt.axis('off')\n",
    "        plt.gcf().set_size_inches(12, 5)\n",
    "    plt.show()\n",
    "\n",
    "show_saliency_maps(X, y)"
   ]
  }
 ],
 "metadata": {
  "kernelspec": {
   "display_name": "Python 3",
   "language": "python",
   "name": "python3"
  },
  "language_info": {
   "codemirror_mode": {
    "name": "ipython",
    "version": 3
   },
   "file_extension": ".py",
   "mimetype": "text/x-python",
   "name": "python",
   "nbconvert_exporter": "python",
   "pygments_lexer": "ipython3",
   "version": "3.6.4"
  }
 },
 "nbformat": 4,
 "nbformat_minor": 2
}
